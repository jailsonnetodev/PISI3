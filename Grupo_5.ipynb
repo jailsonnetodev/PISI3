{
  "nbformat": 4,
  "nbformat_minor": 0,
  "metadata": {
    "colab": {
      "provenance": [],
      "collapsed_sections": [
        "hLokmrlOZ66S"
      ],
      "toc_visible": true,
      "include_colab_link": true
    },
    "kernelspec": {
      "name": "python3",
      "display_name": "Python 3"
    },
    "language_info": {
      "name": "python"
    }
  },
  "cells": [
    {
      "cell_type": "markdown",
      "metadata": {
        "id": "view-in-github",
        "colab_type": "text"
      },
      "source": [
        "<a href=\"https://colab.research.google.com/github/jailsonnetodev/PISI3/blob/main/Grupo_5.ipynb\" target=\"_parent\"><img src=\"https://colab.research.google.com/assets/colab-badge.svg\" alt=\"Open In Colab\"/></a>"
      ]
    },
    {
      "cell_type": "markdown",
      "source": [
        "# Explorando o dataset US Used cars dataset"
      ],
      "metadata": {
        "id": "MA28Fi8CZY_Y"
      }
    },
    {
      "cell_type": "code",
      "source": [
        "import pandas as pd\n",
        "import numpy as np\n",
        "import matplotlib.pyplot as plt\n",
        "import seaborn as sns\n",
        "import warnings\n",
        "warnings.filterwarnings('ignore')\n",
        "import plotly.express as px"
      ],
      "metadata": {
        "id": "4x6UoJVAl4Ub"
      },
      "execution_count": null,
      "outputs": []
    },
    {
      "cell_type": "code",
      "source": [
        "df = pd.read_csv('usedcars_usa100k.csv')\n",
        "df.shape"
      ],
      "metadata": {
        "id": "dYkXm3tjmgjB",
        "colab": {
          "base_uri": "https://localhost:8080/"
        },
        "outputId": "f3ee6404-e5f2-4523-b268-7a673062686c"
      },
      "execution_count": null,
      "outputs": [
        {
          "output_type": "execute_result",
          "data": {
            "text/plain": [
              "(100001, 66)"
            ]
          },
          "metadata": {},
          "execution_count": 3
        }
      ]
    },
    {
      "cell_type": "markdown",
      "source": [
        "#### Dicionario de dados"
      ],
      "metadata": {
        "id": "osgSs26ImQTK"
      }
    },
    {
      "cell_type": "code",
      "source": [
        "data_dict = {\n",
        "    'vin': 'Número de identificação do veículo - manter',\n",
        "    'back_legroom': 'Espaço para as pernas no banco traseiro - usar a média',\n",
        "    'bed': 'Caçamba - descartar (muitos valores nulos)',\n",
        "    'bed_height': 'Altura da caçamba - descartar (muitos valores nulos)',\n",
        "    'bed_length': 'Comprimento da caçamba - descartar (muitos valores nulos)',\n",
        "    'body_type': 'Tipo de carroceria - usar a moda',\n",
        "    'cabin': 'Cabine - descartar (muitos valores nulos)',\n",
        "    'city': 'Cidade - manter',\n",
        "    'city_fuel_economy': 'Consumo de combustível na cidade - usar a média',\n",
        "    'combine_fuel_economy': 'Consumo combinado de combustível - descartar',\n",
        "    'daysonmarket': 'Dias no mercado - manter',\n",
        "    'dealer_zip': 'CEP do revendedor - manter',\n",
        "    'description': 'Descrição - manter',\n",
        "    'engine_cylinders': 'Cilindros do motor - usar a moda',\n",
        "    'engine_displacement': 'Cilindrada do motor - usar a média',\n",
        "    'engine_type': 'Tipo de motor - usar a moda',\n",
        "    'exterior_color': 'Cor exterior - usar a moda',\n",
        "    'fleet': 'Frota - usar a moda',\n",
        "    'frame_damaged': 'Chassi danificado - usar a moda',\n",
        "    'franchise_dealer': 'Concessionária franqueada - manter',\n",
        "    'franchise_make': 'Marca da franquia - usar a moda e tratar valores None',\n",
        "    'front_legroom': 'Espaço para as pernas no banco dianteiro - usar a média',\n",
        "    'fuel_tank_volume': 'Volume do tanque de combustível - usar a média',\n",
        "    'fuel_type': 'Tipo de combustível - usar a moda',\n",
        "    'has_accidents': 'Histórico de acidentes - usar a moda e converter para booleano',\n",
        "    'height': 'Altura - usar a média',\n",
        "    'highway_fuel_economy': 'Consumo de combustível na estrada - usar a média',\n",
        "    'horsepower': 'Potência - usar a média',\n",
        "    'interior_color': 'Cor interior - usar a moda',\n",
        "    'isCab': 'É caminhonete (cabine) - usar a moda e converter para booleano',\n",
        "    'is_certified': 'É certificado - manter',\n",
        "    'is_cpo': 'Certificado de proprietário anterior (CPO) - manter',\n",
        "    'is_new': 'É novo - manter',\n",
        "    'is_oemcpo': 'Certificado pelo fabricante (OEM CPO) - manter',\n",
        "    'latitude': 'Latitude - manter',\n",
        "    'length': 'Comprimento - usar a média',\n",
        "    'listed_date': 'Data de listagem - manter',\n",
        "    'listing_color': 'Cor da listagem - manter',\n",
        "    'listing_id': 'ID da listagem - manter',\n",
        "    'longitude': 'Longitude - manter',\n",
        "    'main_picture_url': 'URL da imagem principal - manter',\n",
        "    'major_options': 'Opções principais - manter',\n",
        "    'make_name': 'Nome da marca - manter',\n",
        "    'maximum_seating': 'Capacidade máxima de assentos - converter para inteiro e usar a média',\n",
        "    'mileage': 'Quilometragem - usar a média',\n",
        "    'model_name': 'Nome do modelo - manter',\n",
        "    'owner_count': 'Número de proprietários - usar a média',\n",
        "    'power': 'Potência - usar a moda',\n",
        "    'price': 'Preço - manter',\n",
        "    'salvage': 'Recuperado - usar a moda e converter para booleano',\n",
        "    'savings_amount': 'Valor economizado - manter',\n",
        "    'seller_rating': 'Avaliação do vendedor - usar a média',\n",
        "    'sp_id': 'ID do vendedor - manter',\n",
        "    'sp_name': 'Nome do vendedor - manter',\n",
        "    'theft_title': 'Título de roubo - usar a moda e converter para booleano',\n",
        "    'torque': 'Torque - usar a moda',\n",
        "    'transmission': 'Transmissão - usar a moda',\n",
        "    'transmission_display': 'Exibição da transmissão - usar a moda',\n",
        "    'trimId': 'ID da versão - manter',\n",
        "    'trim_name': 'Nome da versão - usar a moda',\n",
        "    'vehicle_damage_category': 'Categoria de danos do veículo - descartar (todos os valores nulos)',\n",
        "    'wheel_system': 'Sistema de rodas - usar a moda',\n",
        "    'wheel_system_display': 'Exibição do sistema de rodas - usar a moda',\n",
        "    'wheelbase': 'Entre-eixos - usar a moda e converter para float',\n",
        "    'width': 'Largura - usar a média',\n",
        "    'year': 'Ano - manter'\n",
        "}"
      ],
      "metadata": {
        "id": "Gxi5VSZHqWDo"
      },
      "execution_count": null,
      "outputs": []
    },
    {
      "cell_type": "markdown",
      "source": [
        "#### Preprocessamento e transformacao dos dados .parquet"
      ],
      "metadata": {
        "id": "Wit6QielZjpH"
      }
    },
    {
      "cell_type": "code",
      "source": [
        "def gerar_amostra(file_path,amostra, num_amostras=100000):\n",
        "    if os.path.exists(amostra):\n",
        "        print(f\"O arquivo Parquet '{amostra}' já existe.\")\n",
        "    else:\n",
        "        print(f\"Gerando amostra de {num_amostras} registros e salvando como {amostra}...\")\n",
        "        df = pd.read_csv(file_path, low_memory=False, skiprows=lambda i: i > 0 and i % (3000000 // num_amostras) != 0)\n",
        "        df.to_csv(amostra,index=False)\n",
        "        print(f\"Amostra gerada e salva como '{amostra}'.\")\n",
        "\n",
        "\n",
        "\n",
        "file_path = 'usedcars_usa.csv'\n",
        "amostra = 'usedcars_usa100k.csv'\n",
        "gerar_amostra(file_path, amostra, num_amostras=100000)\n"
      ],
      "metadata": {
        "id": "JaUvx5lUYsW3"
      },
      "execution_count": null,
      "outputs": []
    },
    {
      "cell_type": "code",
      "source": [
        "\n",
        "\n",
        "\n",
        "\n",
        "drop_columns = ['vin','bed','bed_height','bed_length','cabin','combine_fuel_economy','dealer_zip','description','is_certified','is_cpo','is_oemcpo','latitude','listing_id','longitude','main_picture_url','sp_id','trimId','vehicle_damage_category','major_options']\n",
        "\n",
        "#Dropar as colunas especificas\n",
        "def drop_columns_from_df(df, columns_to_drop):\n",
        "  df = df.drop(columns=columns_to_drop)\n",
        "  return df\n",
        "df = drop_columns_from_df(df, drop_columns)\n",
        "\n",
        "\n",
        "#tratar outlier com o metodo IQR\n",
        "def drop_outliers(df, columns, k=1.5):\n",
        "    for column in columns:\n",
        "        q1 = df[column].quantile(0.25)\n",
        "        q3 = df[column].quantile(0.75)\n",
        "        iqr = q3 - q1\n",
        "        df[column] = df[column].clip(lower=q1 - k * iqr, upper=q3 + k * iqr)\n",
        "    return df\n",
        "\n",
        "# prompt: funcao para extrair o numero da coluna maximum_seating e converter para inteiro , atribuir zero em caso de valores nulos , depois tratar os valores nulos e zero com a media\n",
        "\n",
        "def extract_number_to_int(df, column):\n",
        "  df[column] = df[column].str.extract('(\\d+)').astype(float).fillna(0).astype(int)\n",
        "  mean_value = df[column].mean()\n",
        "  df[column] = df[column].replace(0, mean_value)\n",
        "  df[column] = df[column].astype(int)\n",
        "  return df\n",
        "df = extract_number_to_int(df, 'maximum_seating')\n",
        "\n",
        "\n",
        "extract_number = ['back_legroom','height','front_legroom','fuel_tank_volume','length','width','wheelbase']\n",
        "\n",
        "# prompt: funcao para extrair apenas o numero de cada coluna acima da lista e converter pra float\n",
        "\n",
        "def extract_number_to_float(df, columns, decimal_places=1):\n",
        "    for column in columns:\n",
        "        df[column] = (\n",
        "            df[column]\n",
        "            .str.extract('(\\d+\\.\\d+|\\d+)')\n",
        "            .astype(float)\n",
        "            .round(decimal_places)\n",
        "        )\n",
        "    drop_outliers(df, columns, k=1.5)\n",
        "    return df\n",
        "df = extract_number_to_float(df, extract_number, decimal_places=1)\n",
        "\n",
        "\n",
        "col_categories_process = ['has_accidents','body_type','engine_cylinders','engine_type','exterior_color','fleet','frame_damaged','franchise_make','fuel_type','has_accidents','interior_color','isCab','theft_title','torque','transmission','transmission_display','trim_name','wheel_system','wheel_system_display','wheelbase','power','salvage']\n",
        "\n",
        "# prompt: funcao para usar a moda passando as colunas acima\n",
        "\n",
        "def impute_mode(df, columns):\n",
        "  for column in columns:\n",
        "    mode_value = df[column].mode()[0]\n",
        "    df[column] = df[column].fillna(mode_value)\n",
        "  return df\n",
        "\n",
        "df = impute_mode(df, col_categories_process)\n",
        "\n",
        "\n",
        "\n",
        "converter_int = ['owner_count','horsepower','city_fuel_economy','engine_displacement','highway_fuel_economy','seller_rating']\n",
        "\n",
        "\n",
        "def convert_to_int(df, colunas):\n",
        "    for coluna in colunas:\n",
        "        # Substituir valores nulos pela média da coluna\n",
        "        media = df[coluna].mean()\n",
        "        df[coluna].fillna(media, inplace=True)\n",
        "\n",
        "        # Converter a coluna para inteiro\n",
        "        df[coluna] = df[coluna].astype(int)\n",
        "\n",
        "    return df\n",
        "\n",
        "df = convert_to_int(df, converter_int)\n",
        "\n",
        "\n",
        "col_media_process = ['back_legroom','front_legroom','fuel_tank_volume','height','length','mileage','seller_rating','width']\n",
        "\n",
        "\n",
        "# prompt: funcao para preencher com o valor da media as colunas acima\n",
        "\n",
        "def impute_mean(df, columns):\n",
        "  for column in columns:\n",
        "    mean_value = df[column].mean()\n",
        "    df[column] = df[column].fillna(mean_value)\n",
        "  return df\n",
        "\n",
        "df = impute_mean(df, col_media_process)\n",
        "\n",
        "\n",
        "\n",
        "#TRADUZINDO TODAS AS COLUNAS EM PT-BR PARA MELHOR ENTENDIMENTO NO PROCESSO DE ANALISE\n",
        "\n",
        "\n",
        "# Dicionário de tradução das colunas\n",
        "traducoes = {\n",
        "    'back_legroom': 'espaco_banco_traseiro',\n",
        "    'body_type': 'tipo_carroceria',\n",
        "    'city': 'cidade',\n",
        "    'city_fuel_economy': 'consumo_cidade',\n",
        "    'daysonmarket': 'dias_no_mercado',\n",
        "    'engine_cylinders': 'cilindros_motor',\n",
        "    'engine_displacement': 'cilindradas_motor',\n",
        "    'engine_type': 'tipo_motor',\n",
        "    'exterior_color': 'cor_exterior',\n",
        "    'fleet': 'frota',\n",
        "    'frame_damaged': 'chassi_danificado',\n",
        "    'franchise_dealer': 'concessionaria_franqueada',\n",
        "    'franchise_make': 'marca_da_franquia',\n",
        "    'front_legroom': 'espaco_banco_dianteiro',\n",
        "    'fuel_tank_volume': 'volume_tanque',\n",
        "    'fuel_type': 'tipo_combustivel',\n",
        "    'has_accidents': 'historico_acidente',\n",
        "    'height': 'altura',\n",
        "    'highway_fuel_economy': 'consumo_estrada',\n",
        "    'horsepower': 'cavalo_de_potencia',\n",
        "    'interior_color': 'cor_interior',\n",
        "    'isCab': 'ee_cabine',\n",
        "    'is_new': 'ee_novo',\n",
        "    'length': 'comprimento',\n",
        "    'listed_date': 'data_listagem',\n",
        "    'listing_color': 'cor_listagem',\n",
        "    'make_name': 'nome_marca',\n",
        "    'maximum_seating': 'maximo_assentos',\n",
        "    'mileage': 'quilometragem',\n",
        "    'model_name': 'nome_modelo',\n",
        "    'owner_count': 'qtd_proprietarios',\n",
        "    'power': 'potencia',\n",
        "    'price': 'preco',\n",
        "    'salvage': 'recuperado',\n",
        "    'savings_amount': 'valor_economizado',\n",
        "    'seller_rating': 'avaliacao_vendedor',\n",
        "    'sp_name': 'nome_vendedor',\n",
        "    'theft_title': 'titulo_roubo',\n",
        "    'torque': 'torque',\n",
        "    'transmission': 'transmissao',\n",
        "    'transmission_display': 'exibicao_transmissao',\n",
        "    'trim_name': 'nome_versao',\n",
        "    'wheel_system': 'sistema_rodas',\n",
        "    'wheel_system_display': 'exibicao_sistema_rodas',\n",
        "    'wheelbase': 'entre_eixos',\n",
        "    'width': 'largura',\n",
        "    'year': 'ano',\n",
        "}\n",
        "\n",
        "# Renomear as colunas usando o dicionário de traduções\n",
        "df = df.rename(columns=traducoes)\n",
        "\n",
        "def categorizar_daysonmarket(df):\n",
        "    bins = [0, 36, 83, 185, 365, float('inf')]\n",
        "    labels = ['ate-36 dias', '36-83 dias', '83-185 dias', '185-365 dias', '> 365 dias']\n",
        "    df['dias_no_mercado_label'] = pd.cut(df['dias_no_mercado'], bins=bins, labels=labels, right=False)\n",
        "    return df\n",
        "\n",
        "df = categorizar_daysonmarket(df)\n",
        "\n",
        "\n",
        "\n",
        "def tratar_booleans(df):\n",
        "    col_bool = df.select_dtypes(include=[bool]).columns\n",
        "    df[col_bool] = df[col_bool].astype(int)\n",
        "\n",
        "    return df\n",
        "\n",
        "df = tratar_booleans(df)\n",
        "\n",
        "\n",
        "#OBTENDO TODAS AS COLUNAS NUMERICAS\n",
        "\n",
        "\n",
        "def get_numeric_columns(df):\n",
        "    # Seleciona colunas que são do tipo int64 ou float64\n",
        "    numeric_columns = df.select_dtypes(include=['int64', 'float64']).columns.tolist()\n",
        "    return numeric_columns\n",
        "\n",
        "col_numerics = get_numeric_columns(df)\n",
        "\n",
        "\n",
        "#DEFININDO COLUNAS QUE MESMO TENDO VALORES DISCREPANTES SERAO MANTIDOS POIS SE TRATAM DE OUTLIERS NATURAIS E SERA REPROCESSADO NO MODELO COM E SEM\n",
        "exclude_outliers = ['maximo_assentos','dias_no_mercado','qtd_proprietarios','avaliacao_vendedor','frota','chassi_danificado','concessionaria_franqueada','historico_acidente','ee_cabine','ee_novo','recuperado','titulo_roubo']\n",
        "\n",
        "\n",
        "#REDEFININDO AS COLUNAS QUE SERAO APLICADAS A FUNÇÃO DE TRTAMENTO DE OUTLIERS\n",
        "new_col_numerics = [ col for col in col_numerics if col not in exclude_outliers]\n",
        "\n",
        "\n",
        "\n",
        "#APLICANDO OUTLIERS\n",
        "\n",
        "def drop_outliers(df, columns, k=1.5,):\n",
        "    for column in columns:\n",
        "        q1 = df[column].quantile(0.25)\n",
        "        q3 = df[column].quantile(0.75)\n",
        "        iqr = q3 - q1\n",
        "        df[column] = df[column].clip(lower=q1 - k * iqr, upper=q3 + k * iqr)\n",
        "    return df\n",
        "df = drop_outliers(df,new_col_numerics,k=1.5)\n",
        "\n",
        "\n",
        "#transformando em .parquet e gerando amostras menores\n",
        "new_data = df.to_parquet('usedcars_usa.parquet', index=False)\n",
        "\n",
        "\n",
        "# def random_parquet(path: str, num: int) ->None:\n",
        "#   data = pd.read_parquet(path)\n",
        "#   new_data = data.sample(num, replace=False)\n",
        "#   num2 = ''.join(reversed(''.join(reversed(f'{num}')).replace('000','k')))\n",
        "#   new_data.to_parquet(path.replace('.',f'{num2}.'))\n",
        "\n",
        "\n",
        "# for i in [20000,50000,100000]:\n",
        "#   random_parquet('usedcars_usa.parquet',i)\n",
        "\n",
        "# df = pd.read_parquet('usedcars_usa100k.parquet')"
      ],
      "metadata": {
        "id": "izVcp-NDqht3"
      },
      "execution_count": null,
      "outputs": []
    },
    {
      "cell_type": "code",
      "source": [
        "df = pd.read_parquet('usedcars_usa.parquet')\n",
        "df.shape"
      ],
      "metadata": {
        "colab": {
          "base_uri": "https://localhost:8080/"
        },
        "id": "lEEEWwekb2Se",
        "outputId": "dd834490-eefa-46b8-bfe3-4bbca96ff7bf"
      },
      "execution_count": null,
      "outputs": [
        {
          "output_type": "execute_result",
          "data": {
            "text/plain": [
              "(100001, 48)"
            ]
          },
          "metadata": {},
          "execution_count": 5
        }
      ]
    },
    {
      "cell_type": "code",
      "source": [
        "df.columns"
      ],
      "metadata": {
        "colab": {
          "base_uri": "https://localhost:8080/"
        },
        "id": "Z7jF_wFbcCQQ",
        "outputId": "bf2c1fe4-9f50-416b-e93e-b1ea3e46a974"
      },
      "execution_count": null,
      "outputs": [
        {
          "output_type": "execute_result",
          "data": {
            "text/plain": [
              "Index(['espaco_banco_traseiro', 'tipo_carroceria', 'cidade', 'consumo_cidade',\n",
              "       'dias_no_mercado', 'cilindros_motor', 'cilindradas_motor', 'tipo_motor',\n",
              "       'cor_exterior', 'frota', 'chassi_danificado',\n",
              "       'concessionaria_franqueada', 'marca_da_franquia',\n",
              "       'espaco_banco_dianteiro', 'volume_tanque', 'tipo_combustivel',\n",
              "       'historico_acidente', 'altura', 'consumo_estrada', 'cavalo_de_potencia',\n",
              "       'cor_interior', 'ee_cabine', 'ee_novo', 'comprimento', 'data_listagem',\n",
              "       'cor_listagem', 'nome_marca', 'maximo_assentos', 'quilometragem',\n",
              "       'nome_modelo', 'qtd_proprietarios', 'potencia', 'preco', 'recuperado',\n",
              "       'valor_economizado', 'avaliacao_vendedor', 'nome_vendedor',\n",
              "       'titulo_roubo', 'torque', 'transmissao', 'exibicao_transmissao',\n",
              "       'nome_versao', 'sistema_rodas', 'exibicao_sistema_rodas', 'entre_eixos',\n",
              "       'largura', 'ano', 'dias_no_mercado_label'],\n",
              "      dtype='object')"
            ]
          },
          "metadata": {},
          "execution_count": 6
        }
      ]
    },
    {
      "cell_type": "markdown",
      "source": [
        "## Analise Exploratoria"
      ],
      "metadata": {
        "id": "hLokmrlOZ66S"
      }
    },
    {
      "cell_type": "code",
      "source": [
        "def top_categories(data, top: int, label: str):\n",
        "    '''DataFrame, Top: int, Label: str'''\n",
        "    top_make_data = data[label].value_counts().nlargest(top).index\n",
        "    filtered_data = data[data[label].isin(top_make_data)]\n",
        "    return filtered_data\n",
        "\n",
        "\n",
        "col1,col2 = st.columns([0.3,0.8])\n",
        "\n",
        "with col1:\n",
        "    top_categorics = st.slider('Selecione quantidade de marcas que deseja visualizar:', 0, 20, 5)\n",
        "with col2:\n",
        "    data_filtered = top_categories(\n",
        "    data = dfprocess,\n",
        "    top=top_categorics,\n",
        "    label='nome_marca'\n",
        "    )\n",
        "    new_fig = px.bar(data_filtered, x='nome_marca', y='preco')\n",
        "    new_fig\n",
        "\n",
        "\n",
        "group_make =  dfprocess.groupby(['nome_marca'])['preco'].mean().reset_index().sort_values(by='preco',ascending=False)\n",
        "\n",
        "\n",
        "\n",
        "fig =plt.figure(figsize = (25 , 10))\n",
        "sns.heatmap(dfprocess.select_dtypes('float' , 'int').corr() , annot = True)\n",
        "plt.xticks(rotation = 45);\n",
        "st.pyplot(fig)\n",
        "\n",
        "\n",
        "df_ano = dfprocess.groupby('ano')['dias_no_mercado'].mean().reset_index()\n",
        "fig = px.line(df_ano, x='ano', y='dias_no_mercado',\n",
        "              title='Relação entre ano de fabricação e tempo de permanência')\n",
        "st.plotly_chart(fig)\n",
        "\n",
        "\n",
        "df_acidentes = data.groupby('historico_acidente')['dias_no_mercado'].mean().reset_index()\n",
        "fig2 = px.bar(df_acidentes, x='historico_acidente', y='dias_no_mercado',\n",
        "             title='Impacto de histórico de acidentes no tempo de venda')\n",
        "st.plotly_chart(fig2)\n",
        "\n",
        "\n",
        "\n",
        "df_cor = data.groupby('cor_exterior')['dias_no_mercado'].mean().reset_index()\n",
        "\n",
        "datafiltered = top_categories(\n",
        "    data=df_cor,\n",
        "    top=10,\n",
        "    label='cor_exterior'\n",
        ")\n",
        "fig3 = px.bar(datafiltered, x='cor_exterior', y='dias_no_mercado',\n",
        "             title='Relação entre cor do veículo e tempo de venda')\n",
        "st.plotly_chart(fig3)\n",
        "\n",
        "\n",
        "\n",
        "df_combustivel = data.groupby('tipo_combustivel')['preco'].mean().reset_index()\n",
        "fig4 = px.bar(df_combustivel, x='tipo_combustivel', y='preco', title='Preferência por tipo de combustível')\n",
        "title=('Relação entre cor do veículo e tempo de venda')\n",
        "st.plotly_chart(fig4)\n",
        "\n",
        "\n",
        "df_veiculos_ano = data.groupby(['ano','dias_no_mercado_label']).size().reset_index(name='total_veiculos')\n",
        "fig5 = px.bar(df_veiculos_ano, x='ano', y='total_veiculos', title='Total de veículos por ano', color='dias_no_mercado_label')\n",
        "st.plotly_chart(fig5)\n",
        "\n",
        "\n",
        "\n",
        "\n",
        "df_preco_ano = data.groupby('ano')['preco'].mean().reset_index()\n",
        "fig6 = px.line(df_preco_ano, x='ano', y='preco', title='Preço médio por ano')\n",
        "st.plotly_chart(fig6)\n",
        "\n",
        "\n",
        "\n",
        "seats_df = data.groupby(['maximo_assentos' , 'tipo_carroceria'])['tipo_carroceria'].count().to_frame().rename(columns = {'tipo_carroceria':'Count'}).reset_index()\n",
        "fig7 = px.bar(seats_df, x=\"tipo_carroceria\", y=\"Count\", animation_frame=\"maximo_assentos\", animation_group=\"maximo_assentos\",\n",
        "            color=\"Count\")\n",
        "fig7[\"layout\"].pop(\"updatemenus\") # optional, drop animation buttons\n",
        "st.plotly_chart(fig7)\n",
        "\n",
        "\n",
        "fig8 = px.box(data,x='quilometragem',y='dias_no_mercado_label')\n",
        "fig8\n",
        "\n",
        "\n",
        "\n",
        "group_by_year = data.groupby(['ano','dias_no_mercado_label']).agg({'preco': np.mean}).reset_index()\n",
        "fig9 = px.line(group_by_year, x='ano', y='preco', color='dias_no_mercado_label')\n",
        "fig9\n",
        "\n",
        "\n",
        "group_km =  data.groupby(['dias_no_mercado'])['quilometragem'].size().reset_index()\n",
        "fig10 = px.line(group_km, x='dias_no_mercado',y='quilometragem')\n",
        "fig10\n",
        "\n",
        "\n",
        "group_make =  data.groupby(['nome_marca'])['preco'].size().reset_index().sort_values(by='preco',ascending=False)\n",
        "\n",
        "fig11 = px.bar(group_make, x='nome_marca', y='preco')\n",
        "fig11\n",
        "\n",
        "\n",
        "\n",
        "group_ano_km_preco = data.groupby(['ano','quilometragem'])['preco'].mean().reset_index()\n",
        "fig12 = px.bar(group_ano_km_preco, x=\"ano\", y=[\"quilometragem\", \"preco\"], barmode='group',\n",
        "            title=\"Total de Veículos e Preço Médio por Ano\")\n",
        "st.plotly_chart(fig12)\n",
        "\n",
        "data_make = top_categories(\n",
        "    data=data,\n",
        "    top=5,\n",
        "    label='nome_marca'\n",
        ")\n",
        "\n",
        "\n",
        "fig = px.bar(data_make, x='nome_marca', y='dias_no_mercado', color='ano',\n",
        "             title='Tempo de permanência no mercado por modelo e ano')\n",
        "fig"
      ],
      "metadata": {
        "id": "8cm8rRyiqfcO"
      },
      "execution_count": null,
      "outputs": []
    },
    {
      "cell_type": "markdown",
      "source": [
        "## Machine Learning"
      ],
      "metadata": {
        "id": "BftkdpmcndSW"
      }
    },
    {
      "cell_type": "code",
      "source": [],
      "metadata": {
        "id": "ZB-rZ0O3qge-"
      },
      "execution_count": null,
      "outputs": []
    },
    {
      "cell_type": "markdown",
      "source": [
        "### Feature engineering"
      ],
      "metadata": {
        "id": "fgAanhIVnqCd"
      }
    },
    {
      "cell_type": "code",
      "source": [
        "!pip install imblearn\n",
        "from imblearn.over_sampling import SMOTE\n",
        "import pandas as pd\n",
        "import numpy as np\n",
        "import pickle\n",
        "import os\n",
        "from typing import List\n",
        "from sklearn.preprocessing import LabelEncoder, OneHotEncoder\n",
        "from sklearn.compose import ColumnTransformer\n",
        "from sklearn.preprocessing import StandardScaler\n",
        "from sklearn.model_selection import train_test_split\n",
        "from sklearn.model_selection import train_test_split\n",
        "from sklearn.ensemble import RandomForestClassifier\n",
        "from sklearn.metrics import classification_report\n",
        "from sklearn.preprocessing import LabelEncoder\n",
        "from imblearn.over_sampling import SMOTE"
      ],
      "metadata": {
        "colab": {
          "base_uri": "https://localhost:8080/"
        },
        "id": "UCZG7XIReWE1",
        "outputId": "fccbeb56-5573-45a0-be1e-73cc0ac74200"
      },
      "execution_count": null,
      "outputs": [
        {
          "output_type": "stream",
          "name": "stdout",
          "text": [
            "Collecting imblearn\n",
            "  Downloading imblearn-0.0-py2.py3-none-any.whl.metadata (355 bytes)\n",
            "Requirement already satisfied: imbalanced-learn in /usr/local/lib/python3.10/dist-packages (from imblearn) (0.12.3)\n",
            "Requirement already satisfied: numpy>=1.17.3 in /usr/local/lib/python3.10/dist-packages (from imbalanced-learn->imblearn) (1.26.4)\n",
            "Requirement already satisfied: scipy>=1.5.0 in /usr/local/lib/python3.10/dist-packages (from imbalanced-learn->imblearn) (1.13.1)\n",
            "Requirement already satisfied: scikit-learn>=1.0.2 in /usr/local/lib/python3.10/dist-packages (from imbalanced-learn->imblearn) (1.3.2)\n",
            "Requirement already satisfied: joblib>=1.1.1 in /usr/local/lib/python3.10/dist-packages (from imbalanced-learn->imblearn) (1.4.2)\n",
            "Requirement already satisfied: threadpoolctl>=2.0.0 in /usr/local/lib/python3.10/dist-packages (from imbalanced-learn->imblearn) (3.5.0)\n",
            "Downloading imblearn-0.0-py2.py3-none-any.whl (1.9 kB)\n",
            "Installing collected packages: imblearn\n",
            "Successfully installed imblearn-0.0\n"
          ]
        }
      ]
    },
    {
      "cell_type": "code",
      "source": [
        "\n",
        "\n",
        "\n",
        "# Definindo aas feature s target\n",
        "columns_drop = ['dias_no_mercado','dias_no_mercado_label','cidade','data_listagem']\n",
        "# definindo as features e target\n",
        "def features_and_target(data: pd.DataFrame, target: str, columns_drop):\n",
        "  X_data= data.drop(columns_drop, axis=1)\n",
        "  y_data= data[target]\n",
        "  return X_data, y_data\n",
        "X_data, y_data = features_and_target(df,'dias_no_mercado_label',columns_drop)\n",
        "\n",
        "\n",
        "\n",
        "#Transformando variaveis categoricas em numricas com LabelEncoder\n",
        "def label_encoder(X_data):\n",
        "  le=LabelEncoder()\n",
        "  for col in X_data:\n",
        "    if X_data[col].dtypes == 'object':\n",
        "      X_data[col] = pd.DataFrame(le.fit_transform(X_data[col]))\n",
        "  X_data = X_data.values\n",
        "\n",
        "  return X_data\n",
        "X_data = label_encoder(X_data)\n",
        "\n",
        "\n",
        "\n",
        "#padronizacao dos valores\n",
        "def standard(x_data):\n",
        "  scaler = StandardScaler()\n",
        "  x_data = scaler.fit_transform(x_data)\n",
        "\n",
        "  return x_data\n",
        "X_data = standard(X_data)\n",
        "\n",
        "\n",
        "\n",
        "#salvando os arquivos\n",
        "def save_pkl(\n",
        "  x_data: np.ndarray, y_data: np.ndarray, path: str = 'data.pkl', per: int =0.2, random: int=0\n",
        "  )-> None:\n",
        "  '''save(x_training, y_training, x_teste, y_teste)'''\n",
        "  X_training, X_test, y_training, y_test = train_test_split(\n",
        "  X_data, y_data, test_size=per, random_state=random\n",
        "    )\n",
        "  smote = SMOTE(random_state=42)\n",
        "  X_training, y_training = smote.fit_resample(X_training, y_training)\n",
        "  with open(path, mode='wb') as f:\n",
        "    pickle.dump([X_training, X_test, y_training, y_test], f)\n",
        "\n",
        "  return X_training, X_test, y_training, y_test\n",
        "\n",
        "\n",
        "#Verifca se o arquivo ja existe salvo, senao salva compercentual da base de treino e teste\n",
        "def main():\n",
        "  if not(os.path.isfile('usedcars_usa.pkl')):\n",
        "    save_pkl(X_data, y_data,'usedcars_usa.pkl')\n",
        "  X_training, X_test, y_training, y_test = save_pkl(X_data, y_data,'usedcars_usa.pkl')\n",
        "\n",
        "main()\n",
        "\n",
        "with open('usedcars_usa.pkl', 'rb') as f:\n",
        "    X_training, X_test, y_training, y_test = pickle.load(f)\n"
      ],
      "metadata": {
        "id": "GB1_KUijqi7V"
      },
      "execution_count": null,
      "outputs": []
    },
    {
      "cell_type": "code",
      "source": [
        "#y_training.value_counts()"
      ],
      "metadata": {
        "id": "gzSjdGjNgihW"
      },
      "execution_count": null,
      "outputs": []
    },
    {
      "cell_type": "markdown",
      "source": [
        "### Classificacao"
      ],
      "metadata": {
        "id": "EtXWEFzHnw-s"
      }
    },
    {
      "cell_type": "code",
      "source": [
        "!pip install  yellowbrick\n",
        "!pip install shap"
      ],
      "metadata": {
        "colab": {
          "base_uri": "https://localhost:8080/"
        },
        "id": "BGy4UcqIdjKk",
        "outputId": "0920b299-da6e-44bb-da09-37926a68dd97"
      },
      "execution_count": null,
      "outputs": [
        {
          "output_type": "stream",
          "name": "stdout",
          "text": [
            "Requirement already satisfied: yellowbrick in /usr/local/lib/python3.10/dist-packages (1.5)\n",
            "Requirement already satisfied: matplotlib!=3.0.0,>=2.0.2 in /usr/local/lib/python3.10/dist-packages (from yellowbrick) (3.7.1)\n",
            "Requirement already satisfied: scipy>=1.0.0 in /usr/local/lib/python3.10/dist-packages (from yellowbrick) (1.13.1)\n",
            "Requirement already satisfied: scikit-learn>=1.0.0 in /usr/local/lib/python3.10/dist-packages (from yellowbrick) (1.3.2)\n",
            "Requirement already satisfied: numpy>=1.16.0 in /usr/local/lib/python3.10/dist-packages (from yellowbrick) (1.26.4)\n",
            "Requirement already satisfied: cycler>=0.10.0 in /usr/local/lib/python3.10/dist-packages (from yellowbrick) (0.12.1)\n",
            "Requirement already satisfied: contourpy>=1.0.1 in /usr/local/lib/python3.10/dist-packages (from matplotlib!=3.0.0,>=2.0.2->yellowbrick) (1.3.0)\n",
            "Requirement already satisfied: fonttools>=4.22.0 in /usr/local/lib/python3.10/dist-packages (from matplotlib!=3.0.0,>=2.0.2->yellowbrick) (4.53.1)\n",
            "Requirement already satisfied: kiwisolver>=1.0.1 in /usr/local/lib/python3.10/dist-packages (from matplotlib!=3.0.0,>=2.0.2->yellowbrick) (1.4.7)\n",
            "Requirement already satisfied: packaging>=20.0 in /usr/local/lib/python3.10/dist-packages (from matplotlib!=3.0.0,>=2.0.2->yellowbrick) (24.1)\n",
            "Requirement already satisfied: pillow>=6.2.0 in /usr/local/lib/python3.10/dist-packages (from matplotlib!=3.0.0,>=2.0.2->yellowbrick) (9.4.0)\n",
            "Requirement already satisfied: pyparsing>=2.3.1 in /usr/local/lib/python3.10/dist-packages (from matplotlib!=3.0.0,>=2.0.2->yellowbrick) (3.1.4)\n",
            "Requirement already satisfied: python-dateutil>=2.7 in /usr/local/lib/python3.10/dist-packages (from matplotlib!=3.0.0,>=2.0.2->yellowbrick) (2.8.2)\n",
            "Requirement already satisfied: joblib>=1.1.1 in /usr/local/lib/python3.10/dist-packages (from scikit-learn>=1.0.0->yellowbrick) (1.4.2)\n",
            "Requirement already satisfied: threadpoolctl>=2.0.0 in /usr/local/lib/python3.10/dist-packages (from scikit-learn>=1.0.0->yellowbrick) (3.5.0)\n",
            "Requirement already satisfied: six>=1.5 in /usr/local/lib/python3.10/dist-packages (from python-dateutil>=2.7->matplotlib!=3.0.0,>=2.0.2->yellowbrick) (1.16.0)\n",
            "Collecting shap\n",
            "  Downloading shap-0.46.0-cp310-cp310-manylinux_2_12_x86_64.manylinux2010_x86_64.manylinux_2_17_x86_64.manylinux2014_x86_64.whl.metadata (24 kB)\n",
            "Requirement already satisfied: numpy in /usr/local/lib/python3.10/dist-packages (from shap) (1.26.4)\n",
            "Requirement already satisfied: scipy in /usr/local/lib/python3.10/dist-packages (from shap) (1.13.1)\n",
            "Requirement already satisfied: scikit-learn in /usr/local/lib/python3.10/dist-packages (from shap) (1.3.2)\n",
            "Requirement already satisfied: pandas in /usr/local/lib/python3.10/dist-packages (from shap) (2.1.4)\n",
            "Requirement already satisfied: tqdm>=4.27.0 in /usr/local/lib/python3.10/dist-packages (from shap) (4.66.5)\n",
            "Requirement already satisfied: packaging>20.9 in /usr/local/lib/python3.10/dist-packages (from shap) (24.1)\n",
            "Collecting slicer==0.0.8 (from shap)\n",
            "  Downloading slicer-0.0.8-py3-none-any.whl.metadata (4.0 kB)\n",
            "Requirement already satisfied: numba in /usr/local/lib/python3.10/dist-packages (from shap) (0.60.0)\n",
            "Requirement already satisfied: cloudpickle in /usr/local/lib/python3.10/dist-packages (from shap) (2.2.1)\n",
            "Requirement already satisfied: llvmlite<0.44,>=0.43.0dev0 in /usr/local/lib/python3.10/dist-packages (from numba->shap) (0.43.0)\n",
            "Requirement already satisfied: python-dateutil>=2.8.2 in /usr/local/lib/python3.10/dist-packages (from pandas->shap) (2.8.2)\n",
            "Requirement already satisfied: pytz>=2020.1 in /usr/local/lib/python3.10/dist-packages (from pandas->shap) (2024.2)\n",
            "Requirement already satisfied: tzdata>=2022.1 in /usr/local/lib/python3.10/dist-packages (from pandas->shap) (2024.1)\n",
            "Requirement already satisfied: joblib>=1.1.1 in /usr/local/lib/python3.10/dist-packages (from scikit-learn->shap) (1.4.2)\n",
            "Requirement already satisfied: threadpoolctl>=2.0.0 in /usr/local/lib/python3.10/dist-packages (from scikit-learn->shap) (3.5.0)\n",
            "Requirement already satisfied: six>=1.5 in /usr/local/lib/python3.10/dist-packages (from python-dateutil>=2.8.2->pandas->shap) (1.16.0)\n",
            "Downloading shap-0.46.0-cp310-cp310-manylinux_2_12_x86_64.manylinux2010_x86_64.manylinux_2_17_x86_64.manylinux2014_x86_64.whl (540 kB)\n",
            "\u001b[2K   \u001b[90m━━━━━━━━━━━━━━━━━━━━━━━━━━━━━━━━━━━━━━━━\u001b[0m \u001b[32m540.1/540.1 kB\u001b[0m \u001b[31m8.3 MB/s\u001b[0m eta \u001b[36m0:00:00\u001b[0m\n",
            "\u001b[?25hDownloading slicer-0.0.8-py3-none-any.whl (15 kB)\n",
            "Installing collected packages: slicer, shap\n",
            "Successfully installed shap-0.46.0 slicer-0.0.8\n"
          ]
        }
      ]
    },
    {
      "cell_type": "code",
      "source": [
        "import pandas as pd\n",
        "import numpy as np\n",
        "import plotly.express as px\n",
        "import os\n",
        "import pickle\n",
        "import shap\n",
        "from sklearn.naive_bayes import GaussianNB\n",
        "from sklearn.metrics import classification_report\n",
        "from sklearn.tree import DecisionTreeClassifier\n",
        "from sklearn.ensemble import RandomForestClassifier\n",
        "from sklearn.neighbors import KNeighborsClassifier\n",
        "from yellowbrick.classifier import ConfusionMatrix\n"
      ],
      "metadata": {
        "id": "OthUSJ6msAKQ"
      },
      "execution_count": null,
      "outputs": []
    },
    {
      "cell_type": "code",
      "source": [
        "\n",
        "# Plotando a importância das características\n",
        "def plot_feature_importance(importances, feature_names, model_name):\n",
        "    indices = np.argsort(importances)\n",
        "    plt.figure(figsize=(10, 6))\n",
        "    plt.title(f'Feature Importances - {model_name}')\n",
        "    plt.barh(range(len(indices)), importances[indices], align='center')\n",
        "    plt.yticks(range(len(indices)), [feature_names[i] for i in indices])\n",
        "    plt.xlabel('Relative Importance')\n",
        "    plt.show()\n",
        "\n",
        "\n",
        "def table_report(y_test: np.ndarray, previsao: np.ndarray, method:str =''):\n",
        "  #st.markdown(f'##### Classification report do metodo:  <span style=\"color: blue\">{method}</span>', unsafe_allow_html=True)\n",
        "  report = classification_report(y_test, previsao, output_dict=True)\n",
        "  classification_data = pd.DataFrame(report).transpose()\n",
        "  print(classification_data)\n",
        "\n",
        "\n",
        "def confusion_graph(y_test, previsao, method:str = ''):\n",
        "  #st.markdown(f'##### Matriz de Confução do metodo: <span style=\"color: blue\">{method}</span>', unsafe_allow_html=True)\n",
        "  labels = sorted(list(set(y_test) | set(previsao)))\n",
        "  cm = pd.DataFrame(0, index=labels, columns=labels)\n",
        "  for true_label, predicted_label in zip(y_test, previsao):\n",
        "      cm.loc[true_label, predicted_label] += 1\n",
        "  #st.table(cm)\n",
        "  print(cm)"
      ],
      "metadata": {
        "id": "AUSdrb4qsDwr"
      },
      "execution_count": null,
      "outputs": []
    },
    {
      "cell_type": "code",
      "source": [
        "def random_forest(\n",
        "  x_training: np.ndarray, y_training: np.ndarray, x_test: np.ndarray, y_test: np.ndarray\n",
        "  )-> None:\n",
        "  #st.markdown('### Resultado do machine learning usando o método Random Forest')\n",
        "\n",
        "  if not(os.path.isfile('random_forest.pkl')):\n",
        "    obj_random_forest = RandomForestClassifier(n_estimators=10, criterion='entropy', random_state=0)\n",
        "    obj_random_forest.fit(x_training, y_training)\n",
        "    with open('random_forest.pkl', mode='wb') as f:\n",
        "      pickle.dump(obj_random_forest, f)\n",
        "  else:\n",
        "    with open('random_forest.pkl', 'rb') as f:\n",
        "      obj_random_forest = pickle.load(f)\n",
        "\n",
        "  prevision_random_forest = obj_random_forest.predict(x_test)\n",
        "  importances = pd.Series(\n",
        "    data=obj_random_forest.feature_importances_,\n",
        "    index= ['espaco_banco_traseiro', 'tipo_carroceria','consumo_cidade',\n",
        "       'cilindros_motor', 'cilindradas_motor', 'tipo_motor',\n",
        "       'cor_exterior', 'frota', 'chassi_danificado',\n",
        "       'concessionaria_franqueada', 'marca_da_franquia',\n",
        "       'espaco_banco_dianteiro', 'volume_tanque', 'tipo_combustivel',\n",
        "       'historico_acidente', 'altura', 'consumo_estrada', 'cavalo_de_potencia',\n",
        "       'cor_interior', 'ee_cabine', 'ee_novo', 'comprimento',\n",
        "       'cor_listagem', 'nome_marca', 'maximo_assentos', 'quilometragem',\n",
        "       'nome_modelo', 'qtd_proprietarios', 'potencia', 'preco', 'recuperado',\n",
        "       'valor_economizado', 'avaliacao_vendedor', 'nome_vendedor',\n",
        "       'titulo_roubo', 'torque', 'transmissao', 'exibicao_transmissao',\n",
        "       'nome_versao', 'sistema_rodas', 'exibicao_sistema_rodas', 'entre_eixos',\n",
        "       'largura', 'ano']\n",
        "  )\n",
        "  important = importances.to_frame()\n",
        "  important.reset_index(inplace=True)\n",
        "  important.columns = ['Importância','Feature', ]\n",
        "  #st.markdown('##### Gráfico de Importância de parametros')\n",
        "  fig = px.bar(data_frame=important, x='Feature', y='Importância', orientation='h', template='plotly_dark')\n",
        "  table_report(y_test, prevision_random_forest, 'Random Forest')\n",
        "  confusion_graph(y_test, prevision_random_forest, 'Random Forest')\n",
        "  fig.update_layout(yaxis={'categoryorder':'total ascending'})\n",
        "  fig.show()"
      ],
      "metadata": {
        "id": "PSPFC9LlsT4-"
      },
      "execution_count": null,
      "outputs": []
    },
    {
      "cell_type": "code",
      "source": [
        "def calculate_mean_shap_importance(shap_values, feature_names):\n",
        "    mean_shap_importance = np.abs(shap_values).mean(axis=0)\n",
        "    importance_df = pd.DataFrame({\n",
        "        'feature': feature_names,\n",
        "        'importance': mean_shap_importance\n",
        "    }).sort_values(by='importance', ascending=False)\n",
        "    return importance_df\n",
        "\n",
        "\n",
        "# Função para plotar a importância usando Plotly\n",
        "def plot_feature_importance_plotly(importance_df, model_name):\n",
        "    fig = px.bar(importance_df, x='importance', y='feature', orientation='h',\n",
        "                 title=f'Feature Importance - {model_name}', height=600)\n",
        "    fig.update_layout(yaxis={'categoryorder':'total ascending'})\n",
        "    fig.show()\n",
        "\n",
        "def KNN(\n",
        "  x_training: np.ndarray, y_training: np.ndarray, x_test: np.ndarray, y_test: np.ndarray\n",
        "  )-> None:\n",
        "  #st.markdown('### Resultado do machine learning usando o método KNN')\n",
        "  if not(os.path.isfile('KNN_data.pkl')):\n",
        "    obj_knn = KNeighborsClassifier(n_neighbors=10, weights='distance', p=1)\n",
        "    obj_knn.fit(x_training, y_training)\n",
        "    with open('KNN_data.pkl', mode='wb') as f:\n",
        "      pickle.dump(obj_knn, f)\n",
        "  else:\n",
        "    with open('KNN_data.pkl', 'rb') as f:\n",
        "      obj_knn = pickle.load(f)\n",
        "  prevision_knn = obj_knn.predict(x_test)\n",
        "  table_report(y_test, prevision_knn, 'KNN')\n",
        "  confusion_graph(y_test, prevision_knn, 'KNN')\n",
        "  explainer_knn = shap.KernelExplainer(obj_knn.predict_proba, X_training)\n",
        "  shap_values_knn = explainer_knn.shap_values(X_training)\n",
        "  knn_importance_df = calculate_mean_shap_importance(shap_values_knn[1], X_training.columns)\n",
        "  plot_feature_importance_plotly(knn_importance_df, 'KNN')\n",
        "# Para KNN, usamos KernelExplainer\n",
        "\n",
        "\n",
        "\n",
        "\n",
        "\n",
        "\n",
        "\n"
      ],
      "metadata": {
        "id": "RXtT6aOysZxz"
      },
      "execution_count": null,
      "outputs": []
    },
    {
      "cell_type": "code",
      "source": [
        "def tree_decision(\n",
        "  x_training: np.ndarray, y_training: np.ndarray, x_test: np.ndarray, y_test: np.ndarray\n",
        "  )-> None:\n",
        "  #st.markdown('### Resultado do machine learning usando o método Árvore de decisão')\n",
        "  if not(os.path.isfile('tree_decision.pkl')):\n",
        "    obj_tree_decision = DecisionTreeClassifier(criterion='entropy')\n",
        "    obj_tree_decision.fit(X_training, y_training)\n",
        "    with open('tree_decision.pkl', mode='wb') as f:\n",
        "      pickle.dump(obj_tree_decision, f)\n",
        "  else:\n",
        "    with open('tree_decision.pkl', 'rb') as f:\n",
        "      obj_tree_decision = pickle.load(f)\n",
        "  prevision_tree = obj_tree_decision.predict(x_test)\n",
        "  importances = pd.Series(\n",
        "    data=obj_tree_decision.feature_importances_,\n",
        "    index= ['espaco_banco_traseiro', 'tipo_carroceria', 'consumo_cidade',\n",
        "       'cilindros_motor', 'cilindradas_motor', 'tipo_motor',\n",
        "       'cor_exterior', 'frota', 'chassi_danificado',\n",
        "       'concessionaria_franqueada', 'marca_da_franquia',\n",
        "       'espaco_banco_dianteiro', 'volume_tanque', 'tipo_combustivel',\n",
        "       'historico_acidente', 'altura', 'consumo_estrada', 'cavalo_de_potencia',\n",
        "       'cor_interior', 'ee_cabine', 'ee_novo', 'comprimento',\n",
        "       'cor_listagem', 'nome_marca', 'maximo_assentos', 'quilometragem',\n",
        "       'nome_modelo', 'qtd_proprietarios', 'potencia', 'preco', 'recuperado',\n",
        "       'valor_economizado', 'avaliacao_vendedor', 'nome_vendedor',\n",
        "       'titulo_roubo', 'torque', 'transmissao', 'exibicao_transmissao',\n",
        "       'nome_versao', 'sistema_rodas', 'exibicao_sistema_rodas', 'entre_eixos',\n",
        "       'largura', 'ano']\n",
        "  )\n",
        "  important = importances.to_frame()\n",
        "  important.reset_index(inplace=True)\n",
        "  important.columns = ['Importância','Feature', ]\n",
        "  #st.markdown('##### Gráfico de Importância de parametros')\n",
        "  fig = px.bar(data_frame=important, x='Feature', y='Importância', orientation='h', template='plotly_dark')\n",
        "  table_report(y_test, prevision_tree,'Árvore de decisão')\n",
        "  confusion_graph(y_test, prevision_tree, 'Árvore de decisão')\n",
        "  #plot_feature_importance(dt_importances, feature_names, 'Decision Tree')\n",
        "  fig.update_layout(yaxis={'categoryorder':'total ascending'})\n",
        "  fig.show()\n",
        "\n",
        "\n",
        "if not(os.path.isfile('usedcars_usa.pkl')):\n",
        "  print('iniciando...')\n",
        "  main()\n",
        "\n",
        "with open('usedcars_usa.pkl', 'rb') as f:\n",
        "    X_training, X_test, y_training, y_test = pickle.load(f)\n",
        "\n",
        "\n",
        "\n",
        "tree_decision(X_training, y_training, X_test, y_test)\n",
        "random_forest(X_training, y_training, X_test, y_test)\n",
        "KNN(X_training, y_training, X_test, y_test)\n"
      ],
      "metadata": {
        "id": "P1eexWLMqj_F",
        "colab": {
          "base_uri": "https://localhost:8080/",
          "height": 1000
        },
        "outputId": "f9deb5e1-a95d-4b25-91f3-120bb64d0f53"
      },
      "execution_count": null,
      "outputs": [
        {
          "output_type": "stream",
          "name": "stdout",
          "text": [
            "              precision    recall  f1-score       support\n",
            "185-365 dias   0.285541  0.305195  0.295041   2310.000000\n",
            "36-83 dias     0.295916  0.313544  0.304475   4969.000000\n",
            "83-185 dias    0.193729  0.227133  0.209106   2285.000000\n",
            "> 365 dias     0.183824  0.218818  0.199800    457.000000\n",
            "ate-36 dias    0.619969  0.561824  0.589466   9980.000000\n",
            "accuracy       0.424429  0.424429  0.424429      0.424429\n",
            "macro avg      0.315796  0.325303  0.319578  20001.000000\n",
            "weighted avg   0.442177  0.424429  0.432302  20001.000000\n",
            "              185-365 dias  36-83 dias  83-185 dias  > 365 dias  ate-36 dias\n",
            "185-365 dias           705         500          454         113          538\n",
            "36-83 dias             539        1558          696          88         2088\n",
            "83-185 dias            414         581          519          73          698\n",
            "> 365 dias              85          99           60         100          113\n",
            "ate-36 dias            726        2527          950         170         5607\n"
          ]
        },
        {
          "output_type": "display_data",
          "data": {
            "text/html": [
              "<html>\n",
              "<head><meta charset=\"utf-8\" /></head>\n",
              "<body>\n",
              "    <div>            <script src=\"https://cdnjs.cloudflare.com/ajax/libs/mathjax/2.7.5/MathJax.js?config=TeX-AMS-MML_SVG\"></script><script type=\"text/javascript\">if (window.MathJax && window.MathJax.Hub && window.MathJax.Hub.Config) {window.MathJax.Hub.Config({SVG: {font: \"STIX-Web\"}});}</script>                <script type=\"text/javascript\">window.PlotlyConfig = {MathJaxConfig: 'local'};</script>\n",
              "        <script charset=\"utf-8\" src=\"https://cdn.plot.ly/plotly-2.24.1.min.js\"></script>                <div id=\"a7877434-8a09-46f5-97e9-8cda8fa19caa\" class=\"plotly-graph-div\" style=\"height:525px; width:100%;\"></div>            <script type=\"text/javascript\">                                    window.PLOTLYENV=window.PLOTLYENV || {};                                    if (document.getElementById(\"a7877434-8a09-46f5-97e9-8cda8fa19caa\")) {                    Plotly.newPlot(                        \"a7877434-8a09-46f5-97e9-8cda8fa19caa\",                        [{\"alignmentgroup\":\"True\",\"hovertemplate\":\"Feature=%{x}\\u003cbr\\u003eImport\\u00e2ncia=%{y}\\u003cextra\\u003e\\u003c\\u002fextra\\u003e\",\"legendgroup\":\"\",\"marker\":{\"color\":\"#636efa\",\"pattern\":{\"shape\":\"\"}},\"name\":\"\",\"offsetgroup\":\"\",\"orientation\":\"h\",\"showlegend\":false,\"textposition\":\"auto\",\"x\":[0.020023139215912686,0.006819884366841353,0.015641455426218726,0.004073066335681554,0.0099913363369269,0.004693012514258816,0.05600102388391815,0.0054157135753007445,0.0004175380098528794,0.021414130720039237,0.013679787305587917,0.017403511542549155,0.014132430574231341,0.003071443237553998,0.0034603453547430193,0.0204339021762953,0.01852067553465443,0.013337401025788662,0.04254307572090733,0.0015666706559843576,0.06173899745715832,0.020739122326302296,0.04290124482211839,0.016949281209359672,0.009025336010878505,0.07607020818082376,0.022241448959816192,0.014860269200041095,0.012518017381839438,0.06679649959351755,0.00018118410591100217,0.02484450866420372,0.029071839654996406,0.07744249115146236,0.00014764929422029298,0.017197024827194988,0.003952884276712489,0.024068254755269768,0.0421097964695923,0.006974539881766326,0.008882474017784444,0.011150752319179924,0.018178146099099145,0.09931848582750523],\"xaxis\":\"x\",\"y\":[\"espaco_banco_traseiro\",\"tipo_carroceria\",\"consumo_cidade\",\"cilindros_motor\",\"cilindradas_motor\",\"tipo_motor\",\"cor_exterior\",\"frota\",\"chassi_danificado\",\"concessionaria_franqueada\",\"marca_da_franquia\",\"espaco_banco_dianteiro\",\"volume_tanque\",\"tipo_combustivel\",\"historico_acidente\",\"altura\",\"consumo_estrada\",\"cavalo_de_potencia\",\"cor_interior\",\"ee_cabine\",\"ee_novo\",\"comprimento\",\"cor_listagem\",\"nome_marca\",\"maximo_assentos\",\"quilometragem\",\"nome_modelo\",\"qtd_proprietarios\",\"potencia\",\"preco\",\"recuperado\",\"valor_economizado\",\"avaliacao_vendedor\",\"nome_vendedor\",\"titulo_roubo\",\"torque\",\"transmissao\",\"exibicao_transmissao\",\"nome_versao\",\"sistema_rodas\",\"exibicao_sistema_rodas\",\"entre_eixos\",\"largura\",\"ano\"],\"yaxis\":\"y\",\"type\":\"bar\"}],                        {\"template\":{\"data\":{\"barpolar\":[{\"marker\":{\"line\":{\"color\":\"rgb(17,17,17)\",\"width\":0.5},\"pattern\":{\"fillmode\":\"overlay\",\"size\":10,\"solidity\":0.2}},\"type\":\"barpolar\"}],\"bar\":[{\"error_x\":{\"color\":\"#f2f5fa\"},\"error_y\":{\"color\":\"#f2f5fa\"},\"marker\":{\"line\":{\"color\":\"rgb(17,17,17)\",\"width\":0.5},\"pattern\":{\"fillmode\":\"overlay\",\"size\":10,\"solidity\":0.2}},\"type\":\"bar\"}],\"carpet\":[{\"aaxis\":{\"endlinecolor\":\"#A2B1C6\",\"gridcolor\":\"#506784\",\"linecolor\":\"#506784\",\"minorgridcolor\":\"#506784\",\"startlinecolor\":\"#A2B1C6\"},\"baxis\":{\"endlinecolor\":\"#A2B1C6\",\"gridcolor\":\"#506784\",\"linecolor\":\"#506784\",\"minorgridcolor\":\"#506784\",\"startlinecolor\":\"#A2B1C6\"},\"type\":\"carpet\"}],\"choropleth\":[{\"colorbar\":{\"outlinewidth\":0,\"ticks\":\"\"},\"type\":\"choropleth\"}],\"contourcarpet\":[{\"colorbar\":{\"outlinewidth\":0,\"ticks\":\"\"},\"type\":\"contourcarpet\"}],\"contour\":[{\"colorbar\":{\"outlinewidth\":0,\"ticks\":\"\"},\"colorscale\":[[0.0,\"#0d0887\"],[0.1111111111111111,\"#46039f\"],[0.2222222222222222,\"#7201a8\"],[0.3333333333333333,\"#9c179e\"],[0.4444444444444444,\"#bd3786\"],[0.5555555555555556,\"#d8576b\"],[0.6666666666666666,\"#ed7953\"],[0.7777777777777778,\"#fb9f3a\"],[0.8888888888888888,\"#fdca26\"],[1.0,\"#f0f921\"]],\"type\":\"contour\"}],\"heatmapgl\":[{\"colorbar\":{\"outlinewidth\":0,\"ticks\":\"\"},\"colorscale\":[[0.0,\"#0d0887\"],[0.1111111111111111,\"#46039f\"],[0.2222222222222222,\"#7201a8\"],[0.3333333333333333,\"#9c179e\"],[0.4444444444444444,\"#bd3786\"],[0.5555555555555556,\"#d8576b\"],[0.6666666666666666,\"#ed7953\"],[0.7777777777777778,\"#fb9f3a\"],[0.8888888888888888,\"#fdca26\"],[1.0,\"#f0f921\"]],\"type\":\"heatmapgl\"}],\"heatmap\":[{\"colorbar\":{\"outlinewidth\":0,\"ticks\":\"\"},\"colorscale\":[[0.0,\"#0d0887\"],[0.1111111111111111,\"#46039f\"],[0.2222222222222222,\"#7201a8\"],[0.3333333333333333,\"#9c179e\"],[0.4444444444444444,\"#bd3786\"],[0.5555555555555556,\"#d8576b\"],[0.6666666666666666,\"#ed7953\"],[0.7777777777777778,\"#fb9f3a\"],[0.8888888888888888,\"#fdca26\"],[1.0,\"#f0f921\"]],\"type\":\"heatmap\"}],\"histogram2dcontour\":[{\"colorbar\":{\"outlinewidth\":0,\"ticks\":\"\"},\"colorscale\":[[0.0,\"#0d0887\"],[0.1111111111111111,\"#46039f\"],[0.2222222222222222,\"#7201a8\"],[0.3333333333333333,\"#9c179e\"],[0.4444444444444444,\"#bd3786\"],[0.5555555555555556,\"#d8576b\"],[0.6666666666666666,\"#ed7953\"],[0.7777777777777778,\"#fb9f3a\"],[0.8888888888888888,\"#fdca26\"],[1.0,\"#f0f921\"]],\"type\":\"histogram2dcontour\"}],\"histogram2d\":[{\"colorbar\":{\"outlinewidth\":0,\"ticks\":\"\"},\"colorscale\":[[0.0,\"#0d0887\"],[0.1111111111111111,\"#46039f\"],[0.2222222222222222,\"#7201a8\"],[0.3333333333333333,\"#9c179e\"],[0.4444444444444444,\"#bd3786\"],[0.5555555555555556,\"#d8576b\"],[0.6666666666666666,\"#ed7953\"],[0.7777777777777778,\"#fb9f3a\"],[0.8888888888888888,\"#fdca26\"],[1.0,\"#f0f921\"]],\"type\":\"histogram2d\"}],\"histogram\":[{\"marker\":{\"pattern\":{\"fillmode\":\"overlay\",\"size\":10,\"solidity\":0.2}},\"type\":\"histogram\"}],\"mesh3d\":[{\"colorbar\":{\"outlinewidth\":0,\"ticks\":\"\"},\"type\":\"mesh3d\"}],\"parcoords\":[{\"line\":{\"colorbar\":{\"outlinewidth\":0,\"ticks\":\"\"}},\"type\":\"parcoords\"}],\"pie\":[{\"automargin\":true,\"type\":\"pie\"}],\"scatter3d\":[{\"line\":{\"colorbar\":{\"outlinewidth\":0,\"ticks\":\"\"}},\"marker\":{\"colorbar\":{\"outlinewidth\":0,\"ticks\":\"\"}},\"type\":\"scatter3d\"}],\"scattercarpet\":[{\"marker\":{\"colorbar\":{\"outlinewidth\":0,\"ticks\":\"\"}},\"type\":\"scattercarpet\"}],\"scattergeo\":[{\"marker\":{\"colorbar\":{\"outlinewidth\":0,\"ticks\":\"\"}},\"type\":\"scattergeo\"}],\"scattergl\":[{\"marker\":{\"line\":{\"color\":\"#283442\"}},\"type\":\"scattergl\"}],\"scattermapbox\":[{\"marker\":{\"colorbar\":{\"outlinewidth\":0,\"ticks\":\"\"}},\"type\":\"scattermapbox\"}],\"scatterpolargl\":[{\"marker\":{\"colorbar\":{\"outlinewidth\":0,\"ticks\":\"\"}},\"type\":\"scatterpolargl\"}],\"scatterpolar\":[{\"marker\":{\"colorbar\":{\"outlinewidth\":0,\"ticks\":\"\"}},\"type\":\"scatterpolar\"}],\"scatter\":[{\"marker\":{\"line\":{\"color\":\"#283442\"}},\"type\":\"scatter\"}],\"scatterternary\":[{\"marker\":{\"colorbar\":{\"outlinewidth\":0,\"ticks\":\"\"}},\"type\":\"scatterternary\"}],\"surface\":[{\"colorbar\":{\"outlinewidth\":0,\"ticks\":\"\"},\"colorscale\":[[0.0,\"#0d0887\"],[0.1111111111111111,\"#46039f\"],[0.2222222222222222,\"#7201a8\"],[0.3333333333333333,\"#9c179e\"],[0.4444444444444444,\"#bd3786\"],[0.5555555555555556,\"#d8576b\"],[0.6666666666666666,\"#ed7953\"],[0.7777777777777778,\"#fb9f3a\"],[0.8888888888888888,\"#fdca26\"],[1.0,\"#f0f921\"]],\"type\":\"surface\"}],\"table\":[{\"cells\":{\"fill\":{\"color\":\"#506784\"},\"line\":{\"color\":\"rgb(17,17,17)\"}},\"header\":{\"fill\":{\"color\":\"#2a3f5f\"},\"line\":{\"color\":\"rgb(17,17,17)\"}},\"type\":\"table\"}]},\"layout\":{\"annotationdefaults\":{\"arrowcolor\":\"#f2f5fa\",\"arrowhead\":0,\"arrowwidth\":1},\"autotypenumbers\":\"strict\",\"coloraxis\":{\"colorbar\":{\"outlinewidth\":0,\"ticks\":\"\"}},\"colorscale\":{\"diverging\":[[0,\"#8e0152\"],[0.1,\"#c51b7d\"],[0.2,\"#de77ae\"],[0.3,\"#f1b6da\"],[0.4,\"#fde0ef\"],[0.5,\"#f7f7f7\"],[0.6,\"#e6f5d0\"],[0.7,\"#b8e186\"],[0.8,\"#7fbc41\"],[0.9,\"#4d9221\"],[1,\"#276419\"]],\"sequential\":[[0.0,\"#0d0887\"],[0.1111111111111111,\"#46039f\"],[0.2222222222222222,\"#7201a8\"],[0.3333333333333333,\"#9c179e\"],[0.4444444444444444,\"#bd3786\"],[0.5555555555555556,\"#d8576b\"],[0.6666666666666666,\"#ed7953\"],[0.7777777777777778,\"#fb9f3a\"],[0.8888888888888888,\"#fdca26\"],[1.0,\"#f0f921\"]],\"sequentialminus\":[[0.0,\"#0d0887\"],[0.1111111111111111,\"#46039f\"],[0.2222222222222222,\"#7201a8\"],[0.3333333333333333,\"#9c179e\"],[0.4444444444444444,\"#bd3786\"],[0.5555555555555556,\"#d8576b\"],[0.6666666666666666,\"#ed7953\"],[0.7777777777777778,\"#fb9f3a\"],[0.8888888888888888,\"#fdca26\"],[1.0,\"#f0f921\"]]},\"colorway\":[\"#636efa\",\"#EF553B\",\"#00cc96\",\"#ab63fa\",\"#FFA15A\",\"#19d3f3\",\"#FF6692\",\"#B6E880\",\"#FF97FF\",\"#FECB52\"],\"font\":{\"color\":\"#f2f5fa\"},\"geo\":{\"bgcolor\":\"rgb(17,17,17)\",\"lakecolor\":\"rgb(17,17,17)\",\"landcolor\":\"rgb(17,17,17)\",\"showlakes\":true,\"showland\":true,\"subunitcolor\":\"#506784\"},\"hoverlabel\":{\"align\":\"left\"},\"hovermode\":\"closest\",\"mapbox\":{\"style\":\"dark\"},\"paper_bgcolor\":\"rgb(17,17,17)\",\"plot_bgcolor\":\"rgb(17,17,17)\",\"polar\":{\"angularaxis\":{\"gridcolor\":\"#506784\",\"linecolor\":\"#506784\",\"ticks\":\"\"},\"bgcolor\":\"rgb(17,17,17)\",\"radialaxis\":{\"gridcolor\":\"#506784\",\"linecolor\":\"#506784\",\"ticks\":\"\"}},\"scene\":{\"xaxis\":{\"backgroundcolor\":\"rgb(17,17,17)\",\"gridcolor\":\"#506784\",\"gridwidth\":2,\"linecolor\":\"#506784\",\"showbackground\":true,\"ticks\":\"\",\"zerolinecolor\":\"#C8D4E3\"},\"yaxis\":{\"backgroundcolor\":\"rgb(17,17,17)\",\"gridcolor\":\"#506784\",\"gridwidth\":2,\"linecolor\":\"#506784\",\"showbackground\":true,\"ticks\":\"\",\"zerolinecolor\":\"#C8D4E3\"},\"zaxis\":{\"backgroundcolor\":\"rgb(17,17,17)\",\"gridcolor\":\"#506784\",\"gridwidth\":2,\"linecolor\":\"#506784\",\"showbackground\":true,\"ticks\":\"\",\"zerolinecolor\":\"#C8D4E3\"}},\"shapedefaults\":{\"line\":{\"color\":\"#f2f5fa\"}},\"sliderdefaults\":{\"bgcolor\":\"#C8D4E3\",\"bordercolor\":\"rgb(17,17,17)\",\"borderwidth\":1,\"tickwidth\":0},\"ternary\":{\"aaxis\":{\"gridcolor\":\"#506784\",\"linecolor\":\"#506784\",\"ticks\":\"\"},\"baxis\":{\"gridcolor\":\"#506784\",\"linecolor\":\"#506784\",\"ticks\":\"\"},\"bgcolor\":\"rgb(17,17,17)\",\"caxis\":{\"gridcolor\":\"#506784\",\"linecolor\":\"#506784\",\"ticks\":\"\"}},\"title\":{\"x\":0.05},\"updatemenudefaults\":{\"bgcolor\":\"#506784\",\"borderwidth\":0},\"xaxis\":{\"automargin\":true,\"gridcolor\":\"#283442\",\"linecolor\":\"#506784\",\"ticks\":\"\",\"title\":{\"standoff\":15},\"zerolinecolor\":\"#283442\",\"zerolinewidth\":2},\"yaxis\":{\"automargin\":true,\"gridcolor\":\"#283442\",\"linecolor\":\"#506784\",\"ticks\":\"\",\"title\":{\"standoff\":15},\"zerolinecolor\":\"#283442\",\"zerolinewidth\":2}}},\"xaxis\":{\"anchor\":\"y\",\"domain\":[0.0,1.0],\"title\":{\"text\":\"Feature\"}},\"yaxis\":{\"anchor\":\"x\",\"domain\":[0.0,1.0],\"title\":{\"text\":\"Import\\u00e2ncia\"},\"categoryorder\":\"total ascending\"},\"legend\":{\"tracegroupgap\":0},\"margin\":{\"t\":60},\"barmode\":\"relative\"},                        {\"responsive\": true}                    ).then(function(){\n",
              "                            \n",
              "var gd = document.getElementById('a7877434-8a09-46f5-97e9-8cda8fa19caa');\n",
              "var x = new MutationObserver(function (mutations, observer) {{\n",
              "        var display = window.getComputedStyle(gd).display;\n",
              "        if (!display || display === 'none') {{\n",
              "            console.log([gd, 'removed!']);\n",
              "            Plotly.purge(gd);\n",
              "            observer.disconnect();\n",
              "        }}\n",
              "}});\n",
              "\n",
              "// Listen for the removal of the full notebook cells\n",
              "var notebookContainer = gd.closest('#notebook-container');\n",
              "if (notebookContainer) {{\n",
              "    x.observe(notebookContainer, {childList: true});\n",
              "}}\n",
              "\n",
              "// Listen for the clearing of the current output cell\n",
              "var outputEl = gd.closest('.output');\n",
              "if (outputEl) {{\n",
              "    x.observe(outputEl, {childList: true});\n",
              "}}\n",
              "\n",
              "                        })                };                            </script>        </div>\n",
              "</body>\n",
              "</html>"
            ]
          },
          "metadata": {}
        },
        {
          "output_type": "stream",
          "name": "stdout",
          "text": [
            "              precision    recall  f1-score       support\n",
            "185-365 dias   0.345084  0.381385  0.362328   2310.000000\n",
            "36-83 dias     0.311076  0.318776  0.314879   4969.000000\n",
            "83-185 dias    0.241415  0.206127  0.222380   2285.000000\n",
            "> 365 dias     0.299742  0.253829  0.274882    457.000000\n",
            "ate-36 dias    0.637353  0.639780  0.638564   9980.000000\n",
            "accuracy       0.471826  0.471826  0.471826      0.471826\n",
            "macro avg      0.366934  0.359979  0.362606  20001.000000\n",
            "weighted avg   0.469590  0.471826  0.470388  20001.000000\n",
            "              185-365 dias  36-83 dias  83-185 dias  > 365 dias  ate-36 dias\n",
            "185-365 dias           881         480          374          95          480\n",
            "36-83 dias             512        1584          486          56         2331\n",
            "83-185 dias            481         577          471          52          704\n",
            "> 365 dias             104          66           53         116          118\n",
            "ate-36 dias            575        2385          567          68         6385\n"
          ]
        },
        {
          "output_type": "display_data",
          "data": {
            "text/html": [
              "<html>\n",
              "<head><meta charset=\"utf-8\" /></head>\n",
              "<body>\n",
              "    <div>            <script src=\"https://cdnjs.cloudflare.com/ajax/libs/mathjax/2.7.5/MathJax.js?config=TeX-AMS-MML_SVG\"></script><script type=\"text/javascript\">if (window.MathJax && window.MathJax.Hub && window.MathJax.Hub.Config) {window.MathJax.Hub.Config({SVG: {font: \"STIX-Web\"}});}</script>                <script type=\"text/javascript\">window.PlotlyConfig = {MathJaxConfig: 'local'};</script>\n",
              "        <script charset=\"utf-8\" src=\"https://cdn.plot.ly/plotly-2.24.1.min.js\"></script>                <div id=\"b7af9878-b9ca-4b56-aeb1-0f06c05ab55a\" class=\"plotly-graph-div\" style=\"height:525px; width:100%;\"></div>            <script type=\"text/javascript\">                                    window.PLOTLYENV=window.PLOTLYENV || {};                                    if (document.getElementById(\"b7af9878-b9ca-4b56-aeb1-0f06c05ab55a\")) {                    Plotly.newPlot(                        \"b7af9878-b9ca-4b56-aeb1-0f06c05ab55a\",                        [{\"alignmentgroup\":\"True\",\"hovertemplate\":\"Feature=%{x}\\u003cbr\\u003eImport\\u00e2ncia=%{y}\\u003cextra\\u003e\\u003c\\u002fextra\\u003e\",\"legendgroup\":\"\",\"marker\":{\"color\":\"#636efa\",\"pattern\":{\"shape\":\"\"}},\"name\":\"\",\"offsetgroup\":\"\",\"orientation\":\"h\",\"showlegend\":false,\"textposition\":\"auto\",\"x\":[0.021267885464635452,0.008980840097665834,0.02058639609910565,0.0074267255205131165,0.014487382302293413,0.007659217596974187,0.05373380452872711,0.003546314935803363,0.00036571673108438973,0.012902373913591001,0.02040565317204922,0.016988401407398133,0.018722371966698886,0.0037235265220685733,0.0035089991204071765,0.025627085230366966,0.02304068373431192,0.018564701737572464,0.039017547882299934,0.0035106793539523783,0.026077178911225483,0.01855184499279614,0.0457798933152972,0.018427597978910106,0.008719781468831353,0.08469616802092388,0.02208966226038752,0.010645526613908711,0.017766303669465782,0.06436891568685703,0.0003274495489655083,0.023655803011052277,0.03017621571368571,0.06380265579231041,8.988855134531279e-05,0.0185519833013063,0.005010818572600792,0.025483307436920382,0.04265236674533617,0.01010622351914765,0.010304932513440437,0.016928507517317098,0.019063390411531524,0.09265727712891819],\"xaxis\":\"x\",\"y\":[\"espaco_banco_traseiro\",\"tipo_carroceria\",\"consumo_cidade\",\"cilindros_motor\",\"cilindradas_motor\",\"tipo_motor\",\"cor_exterior\",\"frota\",\"chassi_danificado\",\"concessionaria_franqueada\",\"marca_da_franquia\",\"espaco_banco_dianteiro\",\"volume_tanque\",\"tipo_combustivel\",\"historico_acidente\",\"altura\",\"consumo_estrada\",\"cavalo_de_potencia\",\"cor_interior\",\"ee_cabine\",\"ee_novo\",\"comprimento\",\"cor_listagem\",\"nome_marca\",\"maximo_assentos\",\"quilometragem\",\"nome_modelo\",\"qtd_proprietarios\",\"potencia\",\"preco\",\"recuperado\",\"valor_economizado\",\"avaliacao_vendedor\",\"nome_vendedor\",\"titulo_roubo\",\"torque\",\"transmissao\",\"exibicao_transmissao\",\"nome_versao\",\"sistema_rodas\",\"exibicao_sistema_rodas\",\"entre_eixos\",\"largura\",\"ano\"],\"yaxis\":\"y\",\"type\":\"bar\"}],                        {\"template\":{\"data\":{\"barpolar\":[{\"marker\":{\"line\":{\"color\":\"rgb(17,17,17)\",\"width\":0.5},\"pattern\":{\"fillmode\":\"overlay\",\"size\":10,\"solidity\":0.2}},\"type\":\"barpolar\"}],\"bar\":[{\"error_x\":{\"color\":\"#f2f5fa\"},\"error_y\":{\"color\":\"#f2f5fa\"},\"marker\":{\"line\":{\"color\":\"rgb(17,17,17)\",\"width\":0.5},\"pattern\":{\"fillmode\":\"overlay\",\"size\":10,\"solidity\":0.2}},\"type\":\"bar\"}],\"carpet\":[{\"aaxis\":{\"endlinecolor\":\"#A2B1C6\",\"gridcolor\":\"#506784\",\"linecolor\":\"#506784\",\"minorgridcolor\":\"#506784\",\"startlinecolor\":\"#A2B1C6\"},\"baxis\":{\"endlinecolor\":\"#A2B1C6\",\"gridcolor\":\"#506784\",\"linecolor\":\"#506784\",\"minorgridcolor\":\"#506784\",\"startlinecolor\":\"#A2B1C6\"},\"type\":\"carpet\"}],\"choropleth\":[{\"colorbar\":{\"outlinewidth\":0,\"ticks\":\"\"},\"type\":\"choropleth\"}],\"contourcarpet\":[{\"colorbar\":{\"outlinewidth\":0,\"ticks\":\"\"},\"type\":\"contourcarpet\"}],\"contour\":[{\"colorbar\":{\"outlinewidth\":0,\"ticks\":\"\"},\"colorscale\":[[0.0,\"#0d0887\"],[0.1111111111111111,\"#46039f\"],[0.2222222222222222,\"#7201a8\"],[0.3333333333333333,\"#9c179e\"],[0.4444444444444444,\"#bd3786\"],[0.5555555555555556,\"#d8576b\"],[0.6666666666666666,\"#ed7953\"],[0.7777777777777778,\"#fb9f3a\"],[0.8888888888888888,\"#fdca26\"],[1.0,\"#f0f921\"]],\"type\":\"contour\"}],\"heatmapgl\":[{\"colorbar\":{\"outlinewidth\":0,\"ticks\":\"\"},\"colorscale\":[[0.0,\"#0d0887\"],[0.1111111111111111,\"#46039f\"],[0.2222222222222222,\"#7201a8\"],[0.3333333333333333,\"#9c179e\"],[0.4444444444444444,\"#bd3786\"],[0.5555555555555556,\"#d8576b\"],[0.6666666666666666,\"#ed7953\"],[0.7777777777777778,\"#fb9f3a\"],[0.8888888888888888,\"#fdca26\"],[1.0,\"#f0f921\"]],\"type\":\"heatmapgl\"}],\"heatmap\":[{\"colorbar\":{\"outlinewidth\":0,\"ticks\":\"\"},\"colorscale\":[[0.0,\"#0d0887\"],[0.1111111111111111,\"#46039f\"],[0.2222222222222222,\"#7201a8\"],[0.3333333333333333,\"#9c179e\"],[0.4444444444444444,\"#bd3786\"],[0.5555555555555556,\"#d8576b\"],[0.6666666666666666,\"#ed7953\"],[0.7777777777777778,\"#fb9f3a\"],[0.8888888888888888,\"#fdca26\"],[1.0,\"#f0f921\"]],\"type\":\"heatmap\"}],\"histogram2dcontour\":[{\"colorbar\":{\"outlinewidth\":0,\"ticks\":\"\"},\"colorscale\":[[0.0,\"#0d0887\"],[0.1111111111111111,\"#46039f\"],[0.2222222222222222,\"#7201a8\"],[0.3333333333333333,\"#9c179e\"],[0.4444444444444444,\"#bd3786\"],[0.5555555555555556,\"#d8576b\"],[0.6666666666666666,\"#ed7953\"],[0.7777777777777778,\"#fb9f3a\"],[0.8888888888888888,\"#fdca26\"],[1.0,\"#f0f921\"]],\"type\":\"histogram2dcontour\"}],\"histogram2d\":[{\"colorbar\":{\"outlinewidth\":0,\"ticks\":\"\"},\"colorscale\":[[0.0,\"#0d0887\"],[0.1111111111111111,\"#46039f\"],[0.2222222222222222,\"#7201a8\"],[0.3333333333333333,\"#9c179e\"],[0.4444444444444444,\"#bd3786\"],[0.5555555555555556,\"#d8576b\"],[0.6666666666666666,\"#ed7953\"],[0.7777777777777778,\"#fb9f3a\"],[0.8888888888888888,\"#fdca26\"],[1.0,\"#f0f921\"]],\"type\":\"histogram2d\"}],\"histogram\":[{\"marker\":{\"pattern\":{\"fillmode\":\"overlay\",\"size\":10,\"solidity\":0.2}},\"type\":\"histogram\"}],\"mesh3d\":[{\"colorbar\":{\"outlinewidth\":0,\"ticks\":\"\"},\"type\":\"mesh3d\"}],\"parcoords\":[{\"line\":{\"colorbar\":{\"outlinewidth\":0,\"ticks\":\"\"}},\"type\":\"parcoords\"}],\"pie\":[{\"automargin\":true,\"type\":\"pie\"}],\"scatter3d\":[{\"line\":{\"colorbar\":{\"outlinewidth\":0,\"ticks\":\"\"}},\"marker\":{\"colorbar\":{\"outlinewidth\":0,\"ticks\":\"\"}},\"type\":\"scatter3d\"}],\"scattercarpet\":[{\"marker\":{\"colorbar\":{\"outlinewidth\":0,\"ticks\":\"\"}},\"type\":\"scattercarpet\"}],\"scattergeo\":[{\"marker\":{\"colorbar\":{\"outlinewidth\":0,\"ticks\":\"\"}},\"type\":\"scattergeo\"}],\"scattergl\":[{\"marker\":{\"line\":{\"color\":\"#283442\"}},\"type\":\"scattergl\"}],\"scattermapbox\":[{\"marker\":{\"colorbar\":{\"outlinewidth\":0,\"ticks\":\"\"}},\"type\":\"scattermapbox\"}],\"scatterpolargl\":[{\"marker\":{\"colorbar\":{\"outlinewidth\":0,\"ticks\":\"\"}},\"type\":\"scatterpolargl\"}],\"scatterpolar\":[{\"marker\":{\"colorbar\":{\"outlinewidth\":0,\"ticks\":\"\"}},\"type\":\"scatterpolar\"}],\"scatter\":[{\"marker\":{\"line\":{\"color\":\"#283442\"}},\"type\":\"scatter\"}],\"scatterternary\":[{\"marker\":{\"colorbar\":{\"outlinewidth\":0,\"ticks\":\"\"}},\"type\":\"scatterternary\"}],\"surface\":[{\"colorbar\":{\"outlinewidth\":0,\"ticks\":\"\"},\"colorscale\":[[0.0,\"#0d0887\"],[0.1111111111111111,\"#46039f\"],[0.2222222222222222,\"#7201a8\"],[0.3333333333333333,\"#9c179e\"],[0.4444444444444444,\"#bd3786\"],[0.5555555555555556,\"#d8576b\"],[0.6666666666666666,\"#ed7953\"],[0.7777777777777778,\"#fb9f3a\"],[0.8888888888888888,\"#fdca26\"],[1.0,\"#f0f921\"]],\"type\":\"surface\"}],\"table\":[{\"cells\":{\"fill\":{\"color\":\"#506784\"},\"line\":{\"color\":\"rgb(17,17,17)\"}},\"header\":{\"fill\":{\"color\":\"#2a3f5f\"},\"line\":{\"color\":\"rgb(17,17,17)\"}},\"type\":\"table\"}]},\"layout\":{\"annotationdefaults\":{\"arrowcolor\":\"#f2f5fa\",\"arrowhead\":0,\"arrowwidth\":1},\"autotypenumbers\":\"strict\",\"coloraxis\":{\"colorbar\":{\"outlinewidth\":0,\"ticks\":\"\"}},\"colorscale\":{\"diverging\":[[0,\"#8e0152\"],[0.1,\"#c51b7d\"],[0.2,\"#de77ae\"],[0.3,\"#f1b6da\"],[0.4,\"#fde0ef\"],[0.5,\"#f7f7f7\"],[0.6,\"#e6f5d0\"],[0.7,\"#b8e186\"],[0.8,\"#7fbc41\"],[0.9,\"#4d9221\"],[1,\"#276419\"]],\"sequential\":[[0.0,\"#0d0887\"],[0.1111111111111111,\"#46039f\"],[0.2222222222222222,\"#7201a8\"],[0.3333333333333333,\"#9c179e\"],[0.4444444444444444,\"#bd3786\"],[0.5555555555555556,\"#d8576b\"],[0.6666666666666666,\"#ed7953\"],[0.7777777777777778,\"#fb9f3a\"],[0.8888888888888888,\"#fdca26\"],[1.0,\"#f0f921\"]],\"sequentialminus\":[[0.0,\"#0d0887\"],[0.1111111111111111,\"#46039f\"],[0.2222222222222222,\"#7201a8\"],[0.3333333333333333,\"#9c179e\"],[0.4444444444444444,\"#bd3786\"],[0.5555555555555556,\"#d8576b\"],[0.6666666666666666,\"#ed7953\"],[0.7777777777777778,\"#fb9f3a\"],[0.8888888888888888,\"#fdca26\"],[1.0,\"#f0f921\"]]},\"colorway\":[\"#636efa\",\"#EF553B\",\"#00cc96\",\"#ab63fa\",\"#FFA15A\",\"#19d3f3\",\"#FF6692\",\"#B6E880\",\"#FF97FF\",\"#FECB52\"],\"font\":{\"color\":\"#f2f5fa\"},\"geo\":{\"bgcolor\":\"rgb(17,17,17)\",\"lakecolor\":\"rgb(17,17,17)\",\"landcolor\":\"rgb(17,17,17)\",\"showlakes\":true,\"showland\":true,\"subunitcolor\":\"#506784\"},\"hoverlabel\":{\"align\":\"left\"},\"hovermode\":\"closest\",\"mapbox\":{\"style\":\"dark\"},\"paper_bgcolor\":\"rgb(17,17,17)\",\"plot_bgcolor\":\"rgb(17,17,17)\",\"polar\":{\"angularaxis\":{\"gridcolor\":\"#506784\",\"linecolor\":\"#506784\",\"ticks\":\"\"},\"bgcolor\":\"rgb(17,17,17)\",\"radialaxis\":{\"gridcolor\":\"#506784\",\"linecolor\":\"#506784\",\"ticks\":\"\"}},\"scene\":{\"xaxis\":{\"backgroundcolor\":\"rgb(17,17,17)\",\"gridcolor\":\"#506784\",\"gridwidth\":2,\"linecolor\":\"#506784\",\"showbackground\":true,\"ticks\":\"\",\"zerolinecolor\":\"#C8D4E3\"},\"yaxis\":{\"backgroundcolor\":\"rgb(17,17,17)\",\"gridcolor\":\"#506784\",\"gridwidth\":2,\"linecolor\":\"#506784\",\"showbackground\":true,\"ticks\":\"\",\"zerolinecolor\":\"#C8D4E3\"},\"zaxis\":{\"backgroundcolor\":\"rgb(17,17,17)\",\"gridcolor\":\"#506784\",\"gridwidth\":2,\"linecolor\":\"#506784\",\"showbackground\":true,\"ticks\":\"\",\"zerolinecolor\":\"#C8D4E3\"}},\"shapedefaults\":{\"line\":{\"color\":\"#f2f5fa\"}},\"sliderdefaults\":{\"bgcolor\":\"#C8D4E3\",\"bordercolor\":\"rgb(17,17,17)\",\"borderwidth\":1,\"tickwidth\":0},\"ternary\":{\"aaxis\":{\"gridcolor\":\"#506784\",\"linecolor\":\"#506784\",\"ticks\":\"\"},\"baxis\":{\"gridcolor\":\"#506784\",\"linecolor\":\"#506784\",\"ticks\":\"\"},\"bgcolor\":\"rgb(17,17,17)\",\"caxis\":{\"gridcolor\":\"#506784\",\"linecolor\":\"#506784\",\"ticks\":\"\"}},\"title\":{\"x\":0.05},\"updatemenudefaults\":{\"bgcolor\":\"#506784\",\"borderwidth\":0},\"xaxis\":{\"automargin\":true,\"gridcolor\":\"#283442\",\"linecolor\":\"#506784\",\"ticks\":\"\",\"title\":{\"standoff\":15},\"zerolinecolor\":\"#283442\",\"zerolinewidth\":2},\"yaxis\":{\"automargin\":true,\"gridcolor\":\"#283442\",\"linecolor\":\"#506784\",\"ticks\":\"\",\"title\":{\"standoff\":15},\"zerolinecolor\":\"#283442\",\"zerolinewidth\":2}}},\"xaxis\":{\"anchor\":\"y\",\"domain\":[0.0,1.0],\"title\":{\"text\":\"Feature\"}},\"yaxis\":{\"anchor\":\"x\",\"domain\":[0.0,1.0],\"title\":{\"text\":\"Import\\u00e2ncia\"},\"categoryorder\":\"total ascending\"},\"legend\":{\"tracegroupgap\":0},\"margin\":{\"t\":60},\"barmode\":\"relative\"},                        {\"responsive\": true}                    ).then(function(){\n",
              "                            \n",
              "var gd = document.getElementById('b7af9878-b9ca-4b56-aeb1-0f06c05ab55a');\n",
              "var x = new MutationObserver(function (mutations, observer) {{\n",
              "        var display = window.getComputedStyle(gd).display;\n",
              "        if (!display || display === 'none') {{\n",
              "            console.log([gd, 'removed!']);\n",
              "            Plotly.purge(gd);\n",
              "            observer.disconnect();\n",
              "        }}\n",
              "}});\n",
              "\n",
              "// Listen for the removal of the full notebook cells\n",
              "var notebookContainer = gd.closest('#notebook-container');\n",
              "if (notebookContainer) {{\n",
              "    x.observe(notebookContainer, {childList: true});\n",
              "}}\n",
              "\n",
              "// Listen for the clearing of the current output cell\n",
              "var outputEl = gd.closest('.output');\n",
              "if (outputEl) {{\n",
              "    x.observe(outputEl, {childList: true});\n",
              "}}\n",
              "\n",
              "                        })                };                            </script>        </div>\n",
              "</body>\n",
              "</html>"
            ]
          },
          "metadata": {}
        },
        {
          "output_type": "stream",
          "name": "stdout",
          "text": [
            "              precision    recall  f1-score      support\n",
            "185-365 dias   0.273104  0.370996  0.314611   2310.00000\n",
            "36-83 dias     0.302574  0.307507  0.305020   4969.00000\n",
            "83-185 dias    0.193272  0.266521  0.224062   2285.00000\n",
            "> 365 dias     0.096030  0.227571  0.135065    457.00000\n",
            "ate-36 dias    0.642565  0.487976  0.554701   9980.00000\n",
            "accuracy       0.398380  0.398380  0.398380      0.39838\n",
            "macro avg      0.301509  0.332114  0.306692  20001.00000\n",
            "weighted avg   0.451611  0.398380  0.417580  20001.00000\n",
            "              185-365 dias  36-83 dias  83-185 dias  > 365 dias  ate-36 dias\n",
            "185-365 dias           857         435          458         188          372\n",
            "36-83 dias             663        1528          815         216         1747\n",
            "83-185 dias            480         559          609         126          511\n",
            "> 365 dias             120          81           73         104           79\n",
            "ate-36 dias           1018        2447         1196         449         4870\n"
          ]
        }
      ]
    },
    {
      "cell_type": "code",
      "source": [
        "# no modelo decision tree : cidade , data_listagem,"
      ],
      "metadata": {
        "id": "GSPpKsBE4o6G"
      },
      "execution_count": null,
      "outputs": []
    },
    {
      "cell_type": "markdown",
      "source": [
        "### Usando o ShAP dos Modelos"
      ],
      "metadata": {
        "id": "IEFCBGtkuiFU"
      }
    },
    {
      "cell_type": "code",
      "source": [
        "pip install shap"
      ],
      "metadata": {
        "colab": {
          "base_uri": "https://localhost:8080/"
        },
        "id": "t3TEOt27u4Ke",
        "outputId": "3c16b9ed-d50c-42e8-c378-4d428ab3bf3d"
      },
      "execution_count": null,
      "outputs": [
        {
          "output_type": "stream",
          "name": "stdout",
          "text": [
            "Requirement already satisfied: shap in /usr/local/lib/python3.10/dist-packages (0.46.0)\n",
            "Requirement already satisfied: numpy in /usr/local/lib/python3.10/dist-packages (from shap) (1.26.4)\n",
            "Requirement already satisfied: scipy in /usr/local/lib/python3.10/dist-packages (from shap) (1.13.1)\n",
            "Requirement already satisfied: scikit-learn in /usr/local/lib/python3.10/dist-packages (from shap) (1.3.2)\n",
            "Requirement already satisfied: pandas in /usr/local/lib/python3.10/dist-packages (from shap) (2.1.4)\n",
            "Requirement already satisfied: tqdm>=4.27.0 in /usr/local/lib/python3.10/dist-packages (from shap) (4.66.5)\n",
            "Requirement already satisfied: packaging>20.9 in /usr/local/lib/python3.10/dist-packages (from shap) (24.1)\n",
            "Requirement already satisfied: slicer==0.0.8 in /usr/local/lib/python3.10/dist-packages (from shap) (0.0.8)\n",
            "Requirement already satisfied: numba in /usr/local/lib/python3.10/dist-packages (from shap) (0.60.0)\n",
            "Requirement already satisfied: cloudpickle in /usr/local/lib/python3.10/dist-packages (from shap) (2.2.1)\n",
            "Requirement already satisfied: llvmlite<0.44,>=0.43.0dev0 in /usr/local/lib/python3.10/dist-packages (from numba->shap) (0.43.0)\n",
            "Requirement already satisfied: python-dateutil>=2.8.2 in /usr/local/lib/python3.10/dist-packages (from pandas->shap) (2.8.2)\n",
            "Requirement already satisfied: pytz>=2020.1 in /usr/local/lib/python3.10/dist-packages (from pandas->shap) (2024.2)\n",
            "Requirement already satisfied: tzdata>=2022.1 in /usr/local/lib/python3.10/dist-packages (from pandas->shap) (2024.1)\n",
            "Requirement already satisfied: joblib>=1.1.1 in /usr/local/lib/python3.10/dist-packages (from scikit-learn->shap) (1.4.2)\n",
            "Requirement already satisfied: threadpoolctl>=2.0.0 in /usr/local/lib/python3.10/dist-packages (from scikit-learn->shap) (3.5.0)\n",
            "Requirement already satisfied: six>=1.5 in /usr/local/lib/python3.10/dist-packages (from python-dateutil>=2.8.2->pandas->shap) (1.16.0)\n"
          ]
        }
      ]
    },
    {
      "cell_type": "code",
      "source": [
        "X_data.shape"
      ],
      "metadata": {
        "colab": {
          "base_uri": "https://localhost:8080/"
        },
        "id": "fovIL9x46AgO",
        "outputId": "761bfa08-9e22-4b5c-e65c-acd48d38039c"
      },
      "execution_count": null,
      "outputs": [
        {
          "output_type": "execute_result",
          "data": {
            "text/plain": [
              "(100001, 44)"
            ]
          },
          "metadata": {},
          "execution_count": 20
        }
      ]
    },
    {
      "cell_type": "code",
      "source": [
        "import shap\n",
        "import plotly.express as px\n",
        "import pandas as pd\n",
        "from sklearn.ensemble import RandomForestClassifier\n",
        "from sklearn.tree import DecisionTreeClassifier\n",
        "from sklearn.neighbors import KNeighborsClassifier\n",
        "\n",
        "# Exemplo: usando dados de treinamento\n",
        "# X_train = suas_features_de_treinamento\n",
        "# y_train = seu_target_de_treinamento\n",
        "\n",
        "# Treinando o Random Forest\n",
        "rf = RandomForestClassifier()\n",
        "rf.fit(X_training, y_training)\n",
        "\n",
        "# Treinando a Decision Tree\n",
        "dt = DecisionTreeClassifier()\n",
        "dt.fit(X_training, y_training)\n",
        "\n",
        "# Treinando o KNN\n",
        "knn = KNeighborsClassifier()\n",
        "knn.fit(X_training, y_training)\n",
        "\n",
        "# Calculando valores SHAP para Random Forest\n",
        "explainer_rf = shap.TreeExplainer(rf)\n",
        "shap_values_rf = explainer_rf.shap_values(X_training)\n",
        "\n",
        "# Calculando valores SHAP para Decision Tree\n",
        "explainer_dt = shap.TreeExplainer(dt)\n",
        "shap_values_dt = explainer_dt.shap_values(X_training)\n",
        "\n",
        "# Para KNN, usamos KernelExplainer\n",
        "explainer_knn = shap.KernelExplainer(knn.predict_proba, X_training)\n",
        "shap_values_knn = explainer_knn.shap_values(X_training)\n",
        "\n",
        "# Função para calcular a importância média absoluta das características\n",
        "def calculate_mean_shap_importance(shap_values, feature_names):\n",
        "    mean_shap_importance = np.abs(shap_values).mean(axis=0)\n",
        "    importance_df = pd.DataFrame({\n",
        "        'feature': feature_names,\n",
        "        'importance': mean_shap_importance\n",
        "    }).sort_values(by='importance', ascending=False)\n",
        "    return importance_df\n",
        "\n",
        "# Calculando a importância média das características\n",
        "rf_importance_df = calculate_mean_shap_importance(shap_values_rf[1], X_training.columns)\n",
        "dt_importance_df = calculate_mean_shap_importance(shap_values_dt[1], X_training.columns)\n",
        "knn_importance_df = calculate_mean_shap_importance(shap_values_knn[1], X_training.columns)\n",
        "\n",
        "# Função para plotar a importância usando Plotly\n",
        "def plot_feature_importance_plotly(importance_df, model_name):\n",
        "    fig = px.bar(importance_df, x='importance', y='feature', orientation='h',\n",
        "                 title=f'Feature Importance - {model_name}', height=600)\n",
        "    fig.update_layout(yaxis={'categoryorder':'total ascending'})\n",
        "    fig.show()\n",
        "\n",
        "# Plotando a importância das características para cada modelo\n",
        "plot_feature_importance_plotly(rf_importance_df, 'Random Forest')\n",
        "plot_feature_importance_plotly(dt_importance_df, 'Decision Tree')\n",
        "plot_feature_importance_plotly(knn_importance_df, 'KNN')\n"
      ],
      "metadata": {
        "id": "dBP8HfFB6veS"
      },
      "execution_count": null,
      "outputs": []
    },
    {
      "cell_type": "markdown",
      "source": [
        "### Regressao"
      ],
      "metadata": {
        "id": "FI3jBtOBn0op"
      }
    },
    {
      "cell_type": "code",
      "source": [
        "import pandas as pd\n",
        "from sklearn.metrics import mean_squared_error, mean_absolute_error, r2_score\n",
        "import numpy as np\n",
        "\n",
        "import pandas as pd\n",
        "from sklearn.metrics import mean_squared_error, mean_absolute_error, r2_score\n",
        "import numpy as np\n",
        "from xgboost import XGBRegressor\n",
        "from sklearn.svm import SVR\n",
        "from sklearn.linear_model import Ridge\n",
        "from sklearn.ensemble import RandomForestRegressor\n",
        "\n",
        "def evaluate_models(models, X_train, y_train, X_test, y_test):\n",
        "    \"\"\"\n",
        "    Avalia múltiplos modelos de regressão e retorna uma tabela com as métricas de desempenho.\n",
        "\n",
        "    :param models: Dicionário de modelos para avaliar { 'nome_modelo': modelo }\n",
        "    :param X_train: Conjunto de treino (features)\n",
        "    :param y_train: Conjunto de treino (target)\n",
        "    :param X_test: Conjunto de teste (features)\n",
        "    :param y_test: Conjunto de teste (target)\n",
        "    :return: DataFrame com as métricas de avaliação (MSE, RMSE, MAE, R²)\n",
        "    \"\"\"\n",
        "    results = []\n",
        "    for model_name, model in models.items():\n",
        "        model.fit(X_train, y_train)\n",
        "        y_pred = model.predict(X_test)\n",
        "        mse = mean_squared_error(y_test, y_pred)\n",
        "        rmse = np.sqrt(mse)\n",
        "        mae = mean_absolute_error(y_test, y_pred)\n",
        "        r2 = r2_score(y_test, y_pred)\n",
        "        results.append({\n",
        "            'Modelo': model_name,\n",
        "            'MSE': mse,\n",
        "            'RMSE': rmse,\n",
        "            'MAE': mae,\n",
        "            'R²': r2\n",
        "        })\n",
        "    results_df = pd.DataFrame(results)\n",
        "\n",
        "    return results_df\n",
        "models = {\n",
        "    'Ridge Regression': Ridge(alpha=1.0),\n",
        "    'Support Vector Machine (RBF Kernel)': SVR(kernel='rbf'),\n",
        "    'Random Forest': RandomForestRegressor(n_estimators=100),\n",
        "    'XGBoost': XGBRegressor(n_estimators=100),\n",
        "    'SVM Linear': SVR(kernel='linear')\n",
        "}\n",
        "\n",
        "results_df = evaluate_models(models, X_training_regressor, y_training_regressor, X_test_regressor, y_test_regressor)\n",
        "print(results_df)"
      ],
      "metadata": {
        "id": "0fLJo0XiqlN_"
      },
      "execution_count": null,
      "outputs": []
    },
    {
      "cell_type": "markdown",
      "source": [
        "### Clusterizacao"
      ],
      "metadata": {
        "id": "otTB0_-anTrP"
      }
    },
    {
      "cell_type": "code",
      "source": [
        "import pandas as pd\n",
        "from sklearn.preprocessing import StandardScaler\n",
        "from sklearn.cluster import DBSCAN\n",
        "import numpy as np\n",
        "import matplotlib.pyplot as plt\n",
        "from sklearn.decomposition import PCA\n",
        "from sklearn.metrics import silhouette_score\n",
        "\n",
        "\n",
        "X_clusters = df.iloc[:,[4,28,32]].values\n",
        "\n",
        "scaler = StandardScaler()\n",
        "X_clusters = scaler.fit_transform(X_clusters)\n",
        "\n",
        "\n",
        "\n",
        "wcss = []\n",
        "\n",
        "for i in range(1,11):\n",
        "    kmeans = KMeans(n_clusters=i, random_state=0)\n",
        "    kmeans.fit(X_clusters)\n",
        "    wcss.append(kmeans.inertia_)\n",
        "\n",
        "\n",
        "\n",
        "graph_wcss = px.line(x = range(1,11), y=wcss)\n",
        "graph_wcss\n",
        "\n",
        "\n",
        "\n",
        "kmeans_usedcars = KMeans(n_clusters=4, random_state=0)\n",
        "labels = kmeans_usedcars.fit_predict(X_clusters)\n",
        "\n",
        "\n",
        "pca = PCA(n_components=2)\n",
        "X_clusters_pca = pca.fit_transform(X_clusters)\n",
        "\n",
        "\n",
        "graph_clusters = px.scatter(x=X_clusters_pca[:,0], y= X_clusters_pca[:,1], color=labels)\n",
        "graph_clusters.show()\n",
        "\n",
        "colunas_cluster = ['preco', 'quilometragem', 'cavalo_de_potencia', 'consumo_cidade', 'dias_no_mercado']\n",
        "df_cluster = df[colunas_cluster]\n",
        "\n",
        "scaler = StandardScaler()\n",
        "df_scaled = scaler.fit_transform(df_cluster)\n",
        "\n",
        "dbscan = DBSCAN(eps=0.5, min_samples=5)  # Ajuste eps e min_samples conforme necessário\n",
        "clusters_dbscan = dbscan.fit_predict(df_scaled)\n",
        "\n",
        "# Adicionar os clusters ao dataset original\n",
        "df['cluster_dbscan'] = clusters_dbscan\n",
        "\n",
        "# Contar o número de clusters gerados (-1 é o ruído)\n",
        "num_clusters = len(set(clusters_dbscan)) - (1 if -1 in clusters_dbscan else 0)\n",
        "print(f\"Número de clusters encontrados: {num_clusters}\")\n",
        "\n",
        "# Avaliar a qualidade dos clusters (somente se houver mais de um cluster)\n",
        "if num_clusters > 1:\n",
        "    silhouette_avg_dbscan = silhouette_score(df_scaled, clusters_dbscan)\n",
        "    print(f\"Índice de Silhueta para DBSCAN: {silhouette_avg_dbscan}\")\n",
        "\n",
        "# Visualização dos clusters\n",
        "plt.figure(figsize=(8, 6))\n",
        "plt.scatter(df['preco'], df['quilometragem'], c=df['cluster_dbscan'], cmap='viridis', marker='o', s=50)\n",
        "plt.xlabel('Preço')\n",
        "plt.ylabel('Quilometragem')\n",
        "plt.title('Clusters usando DBSCAN')\n",
        "plt.show()"
      ],
      "metadata": {
        "id": "czViTMNhqmS8"
      },
      "execution_count": null,
      "outputs": []
    },
    {
      "cell_type": "markdown",
      "source": [
        "#### KMeans"
      ],
      "metadata": {
        "id": "OfWafN_3pNs0"
      }
    },
    {
      "cell_type": "code",
      "source": [
        "X_clusters = df.iloc[:,[4,28,32]].values\n",
        "\n",
        "scaler = StandardScaler()\n",
        "X_clusters = scaler.fit_transform(X_clusters)\n",
        "\n",
        "\n",
        "\n",
        "wcss = []\n",
        "\n",
        "for i in range(1,11):\n",
        "    kmeans = KMeans(n_clusters=i, random_state=0)\n",
        "    kmeans.fit(X_clusters)\n",
        "    wcss.append(kmeans.inertia_)\n",
        "\n",
        "\n",
        "\n",
        "graph_wcss = px.line(x = range(1,11), y=wcss)\n",
        "graph_wcss\n",
        "\n",
        "\n",
        "\n",
        "kmeans_usedcars = KMeans(n_clusters=4, random_state=0)\n",
        "labels = kmeans_usedcars.fit_predict(X_clusters)\n",
        "\n",
        "\n",
        "pca = PCA(n_components=2)\n",
        "X_clusters_pca = pca.fit_transform(X_clusters)\n",
        "\n",
        "\n",
        "graph_clusters = px.scatter(x=X_clusters_pca[:,0], y= X_clusters_pca[:,1], color=labels)\n",
        "graph_clusters.show()\n"
      ],
      "metadata": {
        "id": "EqlxxC10pcwS"
      },
      "execution_count": null,
      "outputs": []
    },
    {
      "cell_type": "markdown",
      "source": [
        "#### DBScan"
      ],
      "metadata": {
        "id": "oBl8zYMvpQoX"
      }
    },
    {
      "cell_type": "code",
      "source": [
        "\n",
        "colunas_cluster = ['preco', 'quilometragem', 'cavalo_de_potencia', 'consumo_cidade', 'dias_no_mercado']\n",
        "df_cluster = df[colunas_cluster]\n",
        "\n",
        "scaler = StandardScaler()\n",
        "df_scaled = scaler.fit_transform(df_cluster)\n",
        "\n",
        "dbscan = DBSCAN(eps=0.5, min_samples=5)  # Ajuste eps e min_samples conforme necessário\n",
        "clusters_dbscan = dbscan.fit_predict(df_scaled)\n",
        "\n",
        "# Adicionar os clusters ao dataset original\n",
        "df['cluster_dbscan'] = clusters_dbscan\n",
        "\n",
        "# Contar o número de clusters gerados (-1 é o ruído)\n",
        "num_clusters = len(set(clusters_dbscan)) - (1 if -1 in clusters_dbscan else 0)\n",
        "print(f\"Número de clusters encontrados: {num_clusters}\")\n",
        "\n",
        "# Avaliar a qualidade dos clusters (somente se houver mais de um cluster)\n",
        "if num_clusters > 1:\n",
        "    silhouette_avg_dbscan = silhouette_score(df_scaled, clusters_dbscan)\n",
        "    print(f\"Índice de Silhueta para DBSCAN: {silhouette_avg_dbscan}\")\n",
        "\n",
        "# Visualização dos clusters\n",
        "plt.figure(figsize=(8, 6))\n",
        "plt.scatter(df['preco'], df['quilometragem'], c=df['cluster_dbscan'], cmap='viridis', marker='o', s=50)\n",
        "plt.xlabel('Preço')\n",
        "plt.ylabel('Quilometragem')\n",
        "plt.title('Clusters usando DBSCAN')\n",
        "plt.show()"
      ],
      "metadata": {
        "id": "MdymfXf_aSMa"
      },
      "execution_count": null,
      "outputs": []
    },
    {
      "cell_type": "markdown",
      "source": [],
      "metadata": {
        "id": "WJIfOyrqbFMJ"
      }
    }
  ]
}