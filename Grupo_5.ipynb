{
  "nbformat": 4,
  "nbformat_minor": 0,
  "metadata": {
    "colab": {
      "provenance": [],
      "toc_visible": true,
      "include_colab_link": true
    },
    "kernelspec": {
      "name": "python3",
      "display_name": "Python 3"
    },
    "language_info": {
      "name": "python"
    }
  },
  "cells": [
    {
      "cell_type": "markdown",
      "metadata": {
        "id": "view-in-github",
        "colab_type": "text"
      },
      "source": [
        "<a href=\"https://colab.research.google.com/github/jailsonnetodev/PISI3/blob/main/Grupo_5.ipynb\" target=\"_parent\"><img src=\"https://colab.research.google.com/assets/colab-badge.svg\" alt=\"Open In Colab\"/></a>"
      ]
    },
    {
      "cell_type": "markdown",
      "source": [
        "# Explorando o dataset US Used cars dataset"
      ],
      "metadata": {
        "id": "MA28Fi8CZY_Y"
      }
    },
    {
      "cell_type": "code",
      "source": [
        "import pandas as pd\n",
        "import numpy as np\n",
        "import matplotlib.pyplot as plt\n",
        "import seaborn as sns\n",
        "import warnings\n",
        "warnings.filterwarnings('ignore')\n",
        "import plotly.express as px"
      ],
      "metadata": {
        "id": "4x6UoJVAl4Ub"
      },
      "execution_count": null,
      "outputs": []
    },
    {
      "cell_type": "code",
      "source": [
        "df = pd.read_csv('data/usedcars_usa.csv')\n",
        "df.shape"
      ],
      "metadata": {
        "id": "dYkXm3tjmgjB"
      },
      "execution_count": null,
      "outputs": []
    },
    {
      "cell_type": "code",
      "source": [
        "df.describe()"
      ],
      "metadata": {
        "id": "o5m5f9BsmjGW"
      },
      "execution_count": null,
      "outputs": []
    },
    {
      "cell_type": "markdown",
      "source": [
        "#### Dicionario de dados"
      ],
      "metadata": {
        "id": "osgSs26ImQTK"
      }
    },
    {
      "cell_type": "code",
      "source": [
        "data_dict = {\n",
        "    'vin': 'Número de identificação do veículo - manter',\n",
        "    'back_legroom': 'Espaço para as pernas no banco traseiro - usar a média',\n",
        "    'bed': 'Caçamba - descartar (muitos valores nulos)',\n",
        "    'bed_height': 'Altura da caçamba - descartar (muitos valores nulos)',\n",
        "    'bed_length': 'Comprimento da caçamba - descartar (muitos valores nulos)',\n",
        "    'body_type': 'Tipo de carroceria - usar a moda',\n",
        "    'cabin': 'Cabine - descartar (muitos valores nulos)',\n",
        "    'city': 'Cidade - manter',\n",
        "    'city_fuel_economy': 'Consumo de combustível na cidade - usar a média',\n",
        "    'combine_fuel_economy': 'Consumo combinado de combustível - descartar',\n",
        "    'daysonmarket': 'Dias no mercado - manter',\n",
        "    'dealer_zip': 'CEP do revendedor - manter',\n",
        "    'description': 'Descrição - manter',\n",
        "    'engine_cylinders': 'Cilindros do motor - usar a moda',\n",
        "    'engine_displacement': 'Cilindrada do motor - usar a média',\n",
        "    'engine_type': 'Tipo de motor - usar a moda',\n",
        "    'exterior_color': 'Cor exterior - usar a moda',\n",
        "    'fleet': 'Frota - usar a moda',\n",
        "    'frame_damaged': 'Chassi danificado - usar a moda',\n",
        "    'franchise_dealer': 'Concessionária franqueada - manter',\n",
        "    'franchise_make': 'Marca da franquia - usar a moda e tratar valores None',\n",
        "    'front_legroom': 'Espaço para as pernas no banco dianteiro - usar a média',\n",
        "    'fuel_tank_volume': 'Volume do tanque de combustível - usar a média',\n",
        "    'fuel_type': 'Tipo de combustível - usar a moda',\n",
        "    'has_accidents': 'Histórico de acidentes - usar a moda e converter para booleano',\n",
        "    'height': 'Altura - usar a média',\n",
        "    'highway_fuel_economy': 'Consumo de combustível na estrada - usar a média',\n",
        "    'horsepower': 'Potência - usar a média',\n",
        "    'interior_color': 'Cor interior - usar a moda',\n",
        "    'isCab': 'É caminhonete (cabine) - usar a moda e converter para booleano',\n",
        "    'is_certified': 'É certificado - manter',\n",
        "    'is_cpo': 'Certificado de proprietário anterior (CPO) - manter',\n",
        "    'is_new': 'É novo - manter',\n",
        "    'is_oemcpo': 'Certificado pelo fabricante (OEM CPO) - manter',\n",
        "    'latitude': 'Latitude - manter',\n",
        "    'length': 'Comprimento - usar a média',\n",
        "    'listed_date': 'Data de listagem - manter',\n",
        "    'listing_color': 'Cor da listagem - manter',\n",
        "    'listing_id': 'ID da listagem - manter',\n",
        "    'longitude': 'Longitude - manter',\n",
        "    'main_picture_url': 'URL da imagem principal - manter',\n",
        "    'major_options': 'Opções principais - manter',\n",
        "    'make_name': 'Nome da marca - manter',\n",
        "    'maximum_seating': 'Capacidade máxima de assentos - converter para inteiro e usar a média',\n",
        "    'mileage': 'Quilometragem - usar a média',\n",
        "    'model_name': 'Nome do modelo - manter',\n",
        "    'owner_count': 'Número de proprietários - usar a média',\n",
        "    'power': 'Potência - usar a moda',\n",
        "    'price': 'Preço - manter',\n",
        "    'salvage': 'Recuperado - usar a moda e converter para booleano',\n",
        "    'savings_amount': 'Valor economizado - manter',\n",
        "    'seller_rating': 'Avaliação do vendedor - usar a média',\n",
        "    'sp_id': 'ID do vendedor - manter',\n",
        "    'sp_name': 'Nome do vendedor - manter',\n",
        "    'theft_title': 'Título de roubo - usar a moda e converter para booleano',\n",
        "    'torque': 'Torque - usar a moda',\n",
        "    'transmission': 'Transmissão - usar a moda',\n",
        "    'transmission_display': 'Exibição da transmissão - usar a moda',\n",
        "    'trimId': 'ID da versão - manter',\n",
        "    'trim_name': 'Nome da versão - usar a moda',\n",
        "    'vehicle_damage_category': 'Categoria de danos do veículo - descartar (todos os valores nulos)',\n",
        "    'wheel_system': 'Sistema de rodas - usar a moda',\n",
        "    'wheel_system_display': 'Exibição do sistema de rodas - usar a moda',\n",
        "    'wheelbase': 'Entre-eixos - usar a moda e converter para float',\n",
        "    'width': 'Largura - usar a média',\n",
        "    'year': 'Ano - manter'\n",
        "}"
      ],
      "metadata": {
        "id": "Gxi5VSZHqWDo"
      },
      "execution_count": null,
      "outputs": []
    },
    {
      "cell_type": "markdown",
      "source": [
        "#### Preprocessamento e transformacao dos dados .parquet"
      ],
      "metadata": {
        "id": "Wit6QielZjpH"
      }
    },
    {
      "cell_type": "code",
      "source": [],
      "metadata": {
        "id": "izVcp-NDqht3"
      },
      "execution_count": null,
      "outputs": []
    },
    {
      "cell_type": "markdown",
      "source": [
        "## Analise Exploratoria"
      ],
      "metadata": {
        "id": "hLokmrlOZ66S"
      }
    },
    {
      "cell_type": "code",
      "source": [],
      "metadata": {
        "id": "8cm8rRyiqfcO"
      },
      "execution_count": null,
      "outputs": []
    },
    {
      "cell_type": "markdown",
      "source": [
        "## Machine Learning"
      ],
      "metadata": {
        "id": "BftkdpmcndSW"
      }
    },
    {
      "cell_type": "code",
      "source": [],
      "metadata": {
        "id": "ZB-rZ0O3qge-"
      },
      "execution_count": null,
      "outputs": []
    },
    {
      "cell_type": "markdown",
      "source": [
        "### Feature engineering"
      ],
      "metadata": {
        "id": "fgAanhIVnqCd"
      }
    },
    {
      "cell_type": "code",
      "source": [],
      "metadata": {
        "id": "GB1_KUijqi7V"
      },
      "execution_count": null,
      "outputs": []
    },
    {
      "cell_type": "markdown",
      "source": [
        "### Classificacao"
      ],
      "metadata": {
        "id": "EtXWEFzHnw-s"
      }
    },
    {
      "cell_type": "code",
      "source": [],
      "metadata": {
        "id": "P1eexWLMqj_F"
      },
      "execution_count": null,
      "outputs": []
    },
    {
      "cell_type": "markdown",
      "source": [
        "### Regressao"
      ],
      "metadata": {
        "id": "FI3jBtOBn0op"
      }
    },
    {
      "cell_type": "code",
      "source": [],
      "metadata": {
        "id": "0fLJo0XiqlN_"
      },
      "execution_count": null,
      "outputs": []
    },
    {
      "cell_type": "markdown",
      "source": [
        "### Clusterizacao"
      ],
      "metadata": {
        "id": "otTB0_-anTrP"
      }
    },
    {
      "cell_type": "code",
      "source": [],
      "metadata": {
        "id": "czViTMNhqmS8"
      },
      "execution_count": null,
      "outputs": []
    },
    {
      "cell_type": "markdown",
      "source": [
        "#### KMeans"
      ],
      "metadata": {
        "id": "OfWafN_3pNs0"
      }
    },
    {
      "cell_type": "code",
      "source": [
        "X_clusters = df.iloc[:,[4,28,32]].values\n",
        "\n",
        "scaler = StandardScaler()\n",
        "X_clusters = scaler.fit_transform(X_clusters)\n",
        "\n",
        "\n",
        "\n",
        "wcss = []\n",
        "\n",
        "for i in range(1,11):\n",
        "    kmeans = KMeans(n_clusters=i, random_state=0)\n",
        "    kmeans.fit(X_clusters)\n",
        "    wcss.append(kmeans.inertia_)\n",
        "\n",
        "\n",
        "\n",
        "graph_wcss = px.line(x = range(1,11), y=wcss)\n",
        "graph_wcss\n",
        "\n",
        "\n",
        "\n",
        "kmeans_usedcars = KMeans(n_clusters=4, random_state=0)\n",
        "labels = kmeans_usedcars.fit_predict(X_clusters)\n",
        "\n",
        "\n",
        "pca = PCA(n_components=2)\n",
        "X_clusters_pca = pca.fit_transform(X_clusters)\n",
        "\n",
        "\n",
        "graph_clusters = px.scatter(x=X_clusters_pca[:,0], y= X_clusters_pca[:,1], color=labels)\n",
        "graph_clusters.show()\n"
      ],
      "metadata": {
        "id": "EqlxxC10pcwS"
      },
      "execution_count": null,
      "outputs": []
    },
    {
      "cell_type": "markdown",
      "source": [
        "#### DBScan"
      ],
      "metadata": {
        "id": "oBl8zYMvpQoX"
      }
    },
    {
      "cell_type": "code",
      "source": [
        "\n",
        "colunas_cluster = ['preco', 'quilometragem', 'cavalo_de_potencia', 'consumo_cidade', 'dias_no_mercado']\n",
        "df_cluster = df[colunas_cluster]\n",
        "\n",
        "scaler = StandardScaler()\n",
        "df_scaled = scaler.fit_transform(df_cluster)\n",
        "\n",
        "dbscan = DBSCAN(eps=0.5, min_samples=5)  # Ajuste eps e min_samples conforme necessário\n",
        "clusters_dbscan = dbscan.fit_predict(df_scaled)\n",
        "\n",
        "# Adicionar os clusters ao dataset original\n",
        "df['cluster_dbscan'] = clusters_dbscan\n",
        "\n",
        "# Contar o número de clusters gerados (-1 é o ruído)\n",
        "num_clusters = len(set(clusters_dbscan)) - (1 if -1 in clusters_dbscan else 0)\n",
        "print(f\"Número de clusters encontrados: {num_clusters}\")\n",
        "\n",
        "# Avaliar a qualidade dos clusters (somente se houver mais de um cluster)\n",
        "if num_clusters > 1:\n",
        "    silhouette_avg_dbscan = silhouette_score(df_scaled, clusters_dbscan)\n",
        "    print(f\"Índice de Silhueta para DBSCAN: {silhouette_avg_dbscan}\")\n",
        "\n",
        "# Visualização dos clusters\n",
        "plt.figure(figsize=(8, 6))\n",
        "plt.scatter(df['preco'], df['quilometragem'], c=df['cluster_dbscan'], cmap='viridis', marker='o', s=50)\n",
        "plt.xlabel('Preço')\n",
        "plt.ylabel('Quilometragem')\n",
        "plt.title('Clusters usando DBSCAN')\n",
        "plt.show()"
      ],
      "metadata": {
        "id": "MdymfXf_aSMa"
      },
      "execution_count": null,
      "outputs": []
    },
    {
      "cell_type": "markdown",
      "source": [],
      "metadata": {
        "id": "WJIfOyrqbFMJ"
      }
    }
  ]
}